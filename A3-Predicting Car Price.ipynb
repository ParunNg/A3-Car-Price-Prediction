{
 "cells": [
  {
   "cell_type": "code",
   "execution_count": 1,
   "metadata": {},
   "outputs": [],
   "source": [
    "import numpy as np\n",
    "import pandas as pd\n",
    "import matplotlib.pyplot as plt\n",
    "import seaborn as sns\n",
    "import warnings\n",
    "warnings.filterwarnings('ignore')"
   ]
  },
  {
   "cell_type": "markdown",
   "metadata": {},
   "source": [
    "## 1. Load Dataset"
   ]
  },
  {
   "cell_type": "code",
   "execution_count": 2,
   "metadata": {},
   "outputs": [
    {
     "data": {
      "text/html": [
       "<div>\n",
       "<style scoped>\n",
       "    .dataframe tbody tr th:only-of-type {\n",
       "        vertical-align: middle;\n",
       "    }\n",
       "\n",
       "    .dataframe tbody tr th {\n",
       "        vertical-align: top;\n",
       "    }\n",
       "\n",
       "    .dataframe thead th {\n",
       "        text-align: right;\n",
       "    }\n",
       "</style>\n",
       "<table border=\"1\" class=\"dataframe\">\n",
       "  <thead>\n",
       "    <tr style=\"text-align: right;\">\n",
       "      <th></th>\n",
       "      <th>name</th>\n",
       "      <th>year</th>\n",
       "      <th>selling_price</th>\n",
       "      <th>km_driven</th>\n",
       "      <th>fuel</th>\n",
       "      <th>seller_type</th>\n",
       "      <th>transmission</th>\n",
       "      <th>owner</th>\n",
       "      <th>mileage</th>\n",
       "      <th>engine</th>\n",
       "      <th>max_power</th>\n",
       "      <th>torque</th>\n",
       "      <th>seats</th>\n",
       "    </tr>\n",
       "  </thead>\n",
       "  <tbody>\n",
       "    <tr>\n",
       "      <th>0</th>\n",
       "      <td>Maruti Swift Dzire VDI</td>\n",
       "      <td>2014</td>\n",
       "      <td>450000</td>\n",
       "      <td>145500</td>\n",
       "      <td>Diesel</td>\n",
       "      <td>Individual</td>\n",
       "      <td>Manual</td>\n",
       "      <td>First Owner</td>\n",
       "      <td>23.4 kmpl</td>\n",
       "      <td>1248 CC</td>\n",
       "      <td>74 bhp</td>\n",
       "      <td>190Nm@ 2000rpm</td>\n",
       "      <td>5.0</td>\n",
       "    </tr>\n",
       "    <tr>\n",
       "      <th>1</th>\n",
       "      <td>Skoda Rapid 1.5 TDI Ambition</td>\n",
       "      <td>2014</td>\n",
       "      <td>370000</td>\n",
       "      <td>120000</td>\n",
       "      <td>Diesel</td>\n",
       "      <td>Individual</td>\n",
       "      <td>Manual</td>\n",
       "      <td>Second Owner</td>\n",
       "      <td>21.14 kmpl</td>\n",
       "      <td>1498 CC</td>\n",
       "      <td>103.52 bhp</td>\n",
       "      <td>250Nm@ 1500-2500rpm</td>\n",
       "      <td>5.0</td>\n",
       "    </tr>\n",
       "    <tr>\n",
       "      <th>2</th>\n",
       "      <td>Honda City 2017-2020 EXi</td>\n",
       "      <td>2006</td>\n",
       "      <td>158000</td>\n",
       "      <td>140000</td>\n",
       "      <td>Petrol</td>\n",
       "      <td>Individual</td>\n",
       "      <td>Manual</td>\n",
       "      <td>Third Owner</td>\n",
       "      <td>17.7 kmpl</td>\n",
       "      <td>1497 CC</td>\n",
       "      <td>78 bhp</td>\n",
       "      <td>12.7@ 2,700(kgm@ rpm)</td>\n",
       "      <td>5.0</td>\n",
       "    </tr>\n",
       "    <tr>\n",
       "      <th>3</th>\n",
       "      <td>Hyundai i20 Sportz Diesel</td>\n",
       "      <td>2010</td>\n",
       "      <td>225000</td>\n",
       "      <td>127000</td>\n",
       "      <td>Diesel</td>\n",
       "      <td>Individual</td>\n",
       "      <td>Manual</td>\n",
       "      <td>First Owner</td>\n",
       "      <td>23.0 kmpl</td>\n",
       "      <td>1396 CC</td>\n",
       "      <td>90 bhp</td>\n",
       "      <td>22.4 kgm at 1750-2750rpm</td>\n",
       "      <td>5.0</td>\n",
       "    </tr>\n",
       "    <tr>\n",
       "      <th>4</th>\n",
       "      <td>Maruti Swift VXI BSIII</td>\n",
       "      <td>2007</td>\n",
       "      <td>130000</td>\n",
       "      <td>120000</td>\n",
       "      <td>Petrol</td>\n",
       "      <td>Individual</td>\n",
       "      <td>Manual</td>\n",
       "      <td>First Owner</td>\n",
       "      <td>16.1 kmpl</td>\n",
       "      <td>1298 CC</td>\n",
       "      <td>88.2 bhp</td>\n",
       "      <td>11.5@ 4,500(kgm@ rpm)</td>\n",
       "      <td>5.0</td>\n",
       "    </tr>\n",
       "  </tbody>\n",
       "</table>\n",
       "</div>"
      ],
      "text/plain": [
       "                           name  year  selling_price  km_driven    fuel  \\\n",
       "0        Maruti Swift Dzire VDI  2014         450000     145500  Diesel   \n",
       "1  Skoda Rapid 1.5 TDI Ambition  2014         370000     120000  Diesel   \n",
       "2      Honda City 2017-2020 EXi  2006         158000     140000  Petrol   \n",
       "3     Hyundai i20 Sportz Diesel  2010         225000     127000  Diesel   \n",
       "4        Maruti Swift VXI BSIII  2007         130000     120000  Petrol   \n",
       "\n",
       "  seller_type transmission         owner     mileage   engine   max_power  \\\n",
       "0  Individual       Manual   First Owner   23.4 kmpl  1248 CC      74 bhp   \n",
       "1  Individual       Manual  Second Owner  21.14 kmpl  1498 CC  103.52 bhp   \n",
       "2  Individual       Manual   Third Owner   17.7 kmpl  1497 CC      78 bhp   \n",
       "3  Individual       Manual   First Owner   23.0 kmpl  1396 CC      90 bhp   \n",
       "4  Individual       Manual   First Owner   16.1 kmpl  1298 CC    88.2 bhp   \n",
       "\n",
       "                     torque  seats  \n",
       "0            190Nm@ 2000rpm    5.0  \n",
       "1       250Nm@ 1500-2500rpm    5.0  \n",
       "2     12.7@ 2,700(kgm@ rpm)    5.0  \n",
       "3  22.4 kgm at 1750-2750rpm    5.0  \n",
       "4     11.5@ 4,500(kgm@ rpm)    5.0  "
      ]
     },
     "execution_count": 2,
     "metadata": {},
     "output_type": "execute_result"
    }
   ],
   "source": [
    "df = pd.read_csv(\"app/code/data/Cars.csv\")\n",
    "df.head()"
   ]
  },
  {
   "cell_type": "code",
   "execution_count": 3,
   "metadata": {},
   "outputs": [
    {
     "data": {
      "text/plain": [
       "(8128, 13)"
      ]
     },
     "execution_count": 3,
     "metadata": {},
     "output_type": "execute_result"
    }
   ],
   "source": [
    "# Check the shape\n",
    "df.shape"
   ]
  },
  {
   "cell_type": "code",
   "execution_count": 4,
   "metadata": {},
   "outputs": [
    {
     "name": "stdout",
     "output_type": "stream",
     "text": [
      "<class 'pandas.core.frame.DataFrame'>\n",
      "RangeIndex: 8128 entries, 0 to 8127\n",
      "Data columns (total 13 columns):\n",
      " #   Column         Non-Null Count  Dtype  \n",
      "---  ------         --------------  -----  \n",
      " 0   name           8128 non-null   object \n",
      " 1   year           8128 non-null   int64  \n",
      " 2   selling_price  8128 non-null   int64  \n",
      " 3   km_driven      8128 non-null   int64  \n",
      " 4   fuel           8128 non-null   object \n",
      " 5   seller_type    8128 non-null   object \n",
      " 6   transmission   8128 non-null   object \n",
      " 7   owner          8128 non-null   object \n",
      " 8   mileage        7907 non-null   object \n",
      " 9   engine         7907 non-null   object \n",
      " 10  max_power      7913 non-null   object \n",
      " 11  torque         7906 non-null   object \n",
      " 12  seats          7907 non-null   float64\n",
      "dtypes: float64(1), int64(3), object(9)\n",
      "memory usage: 825.6+ KB\n"
     ]
    }
   ],
   "source": [
    "# Check the data types of each column\n",
    "df.info()"
   ]
  },
  {
   "cell_type": "code",
   "execution_count": 5,
   "metadata": {},
   "outputs": [
    {
     "data": {
      "text/html": [
       "<div>\n",
       "<style scoped>\n",
       "    .dataframe tbody tr th:only-of-type {\n",
       "        vertical-align: middle;\n",
       "    }\n",
       "\n",
       "    .dataframe tbody tr th {\n",
       "        vertical-align: top;\n",
       "    }\n",
       "\n",
       "    .dataframe thead th {\n",
       "        text-align: right;\n",
       "    }\n",
       "</style>\n",
       "<table border=\"1\" class=\"dataframe\">\n",
       "  <thead>\n",
       "    <tr style=\"text-align: right;\">\n",
       "      <th></th>\n",
       "      <th>year</th>\n",
       "      <th>selling_price</th>\n",
       "      <th>km_driven</th>\n",
       "      <th>seats</th>\n",
       "    </tr>\n",
       "  </thead>\n",
       "  <tbody>\n",
       "    <tr>\n",
       "      <th>count</th>\n",
       "      <td>8128.000000</td>\n",
       "      <td>8.128000e+03</td>\n",
       "      <td>8.128000e+03</td>\n",
       "      <td>7907.000000</td>\n",
       "    </tr>\n",
       "    <tr>\n",
       "      <th>mean</th>\n",
       "      <td>2013.804011</td>\n",
       "      <td>6.382718e+05</td>\n",
       "      <td>6.981951e+04</td>\n",
       "      <td>5.416719</td>\n",
       "    </tr>\n",
       "    <tr>\n",
       "      <th>std</th>\n",
       "      <td>4.044249</td>\n",
       "      <td>8.062534e+05</td>\n",
       "      <td>5.655055e+04</td>\n",
       "      <td>0.959588</td>\n",
       "    </tr>\n",
       "    <tr>\n",
       "      <th>min</th>\n",
       "      <td>1983.000000</td>\n",
       "      <td>2.999900e+04</td>\n",
       "      <td>1.000000e+00</td>\n",
       "      <td>2.000000</td>\n",
       "    </tr>\n",
       "    <tr>\n",
       "      <th>25%</th>\n",
       "      <td>2011.000000</td>\n",
       "      <td>2.549990e+05</td>\n",
       "      <td>3.500000e+04</td>\n",
       "      <td>5.000000</td>\n",
       "    </tr>\n",
       "    <tr>\n",
       "      <th>50%</th>\n",
       "      <td>2015.000000</td>\n",
       "      <td>4.500000e+05</td>\n",
       "      <td>6.000000e+04</td>\n",
       "      <td>5.000000</td>\n",
       "    </tr>\n",
       "    <tr>\n",
       "      <th>75%</th>\n",
       "      <td>2017.000000</td>\n",
       "      <td>6.750000e+05</td>\n",
       "      <td>9.800000e+04</td>\n",
       "      <td>5.000000</td>\n",
       "    </tr>\n",
       "    <tr>\n",
       "      <th>max</th>\n",
       "      <td>2020.000000</td>\n",
       "      <td>1.000000e+07</td>\n",
       "      <td>2.360457e+06</td>\n",
       "      <td>14.000000</td>\n",
       "    </tr>\n",
       "  </tbody>\n",
       "</table>\n",
       "</div>"
      ],
      "text/plain": [
       "              year  selling_price     km_driven        seats\n",
       "count  8128.000000   8.128000e+03  8.128000e+03  7907.000000\n",
       "mean   2013.804011   6.382718e+05  6.981951e+04     5.416719\n",
       "std       4.044249   8.062534e+05  5.655055e+04     0.959588\n",
       "min    1983.000000   2.999900e+04  1.000000e+00     2.000000\n",
       "25%    2011.000000   2.549990e+05  3.500000e+04     5.000000\n",
       "50%    2015.000000   4.500000e+05  6.000000e+04     5.000000\n",
       "75%    2017.000000   6.750000e+05  9.800000e+04     5.000000\n",
       "max    2020.000000   1.000000e+07  2.360457e+06    14.000000"
      ]
     },
     "execution_count": 5,
     "metadata": {},
     "output_type": "execute_result"
    }
   ],
   "source": [
    "# Quick analysis of each column\n",
    "df.describe()"
   ]
  },
  {
   "cell_type": "markdown",
   "metadata": {},
   "source": [
    "## 2. EDA"
   ]
  },
  {
   "cell_type": "markdown",
   "metadata": {},
   "source": [
    "### Inspect \"owner\""
   ]
  },
  {
   "cell_type": "code",
   "execution_count": 6,
   "metadata": {},
   "outputs": [
    {
     "data": {
      "text/plain": [
       "array(['First Owner', 'Second Owner', 'Third Owner',\n",
       "       'Fourth & Above Owner', 'Test Drive Car'], dtype=object)"
      ]
     },
     "execution_count": 6,
     "metadata": {},
     "output_type": "execute_result"
    }
   ],
   "source": [
    "# Check all unique values in column \"owner\"\n",
    "df['owner'].unique()"
   ]
  },
  {
   "cell_type": "code",
   "execution_count": 7,
   "metadata": {},
   "outputs": [
    {
     "data": {
      "text/plain": [
       "array([1, 2, 3, 4, 5], dtype=int64)"
      ]
     },
     "execution_count": 7,
     "metadata": {},
     "output_type": "execute_result"
    }
   ],
   "source": [
    "# Map First owner to 1, ..., Test Drive Car to 5 in owner column\n",
    "df['owner'].replace({\n",
    "    'First Owner': 1,\n",
    "    'Second Owner': 2,\n",
    "    'Third Owner': 3,\n",
    "    'Fourth & Above Owner': 4,\n",
    "    'Test Drive Car': 5}, inplace=True)\n",
    "\n",
    "df['owner'].unique()"
   ]
  },
  {
   "cell_type": "code",
   "execution_count": 8,
   "metadata": {},
   "outputs": [
    {
     "name": "stdout",
     "output_type": "stream",
     "text": [
      "----------------------------------------\n",
      "Means of selling_price by owner\n",
      "----------------------------------------\n",
      "owner\n",
      "1     783086.0\n",
      "2     392964.0\n",
      "3     284015.0\n",
      "4     225813.0\n",
      "5    4403800.0\n",
      "Name: selling_price, dtype: float64\n",
      "----------------------------------------\n",
      "Median of selling_price by owner\n",
      "----------------------------------------\n",
      "owner\n",
      "1     550000.0\n",
      "2     310000.0\n",
      "3     225000.0\n",
      "4     170000.0\n",
      "5    5923000.0\n",
      "Name: selling_price, dtype: float64\n"
     ]
    }
   ],
   "source": [
    "# Check selling_price via each category of owner\n",
    "print('-'*40)\n",
    "print('Means of selling_price by owner')\n",
    "print('-'*40)\n",
    "print(df.groupby(['owner'])['selling_price'].mean().round())\n",
    "print('-'*40)\n",
    "print('Median of selling_price by owner')\n",
    "print('-'*40)\n",
    "print(df.groupby(['owner'])['selling_price'].median().round())"
   ]
  },
  {
   "cell_type": "code",
   "execution_count": 9,
   "metadata": {},
   "outputs": [
    {
     "data": {
      "text/plain": [
       "array([1, 2, 3, 4], dtype=int64)"
      ]
     },
     "execution_count": 9,
     "metadata": {},
     "output_type": "execute_result"
    }
   ],
   "source": [
    "# Drop \"Test Drive Cars\" because they are too expensive\n",
    "df =  df[df['owner'] != 5].reset_index(drop=True)\n",
    "df['owner'].unique()"
   ]
  },
  {
   "cell_type": "code",
   "execution_count": 10,
   "metadata": {},
   "outputs": [
    {
     "data": {
      "text/plain": [
       "Text(0.5, 0, 'owner')"
      ]
     },
     "execution_count": 10,
     "metadata": {},
     "output_type": "execute_result"
    },
    {
     "data": {
      "image/png": "[encoded data removed]",
      "text/plain": [
       "<Figure size 1000x500 with 1 Axes>"
      ]
     },
     "metadata": {},
     "output_type": "display_data"
    }
   ],
   "source": [
    "# Box plot of the range of selling prices per each type of owner\n",
    "plt.figure(figsize=(10, 5))\n",
    "# Order categories by median values in ascending order\n",
    "med_idx = df.groupby(['owner'])['selling_price'].median().sort_values().index\n",
    "sns.boxplot(x = df[\"owner\"], y = df[\"selling_price\"], order=med_idx)\n",
    "\n",
    "plt.ylim([0, 1500000])\n",
    "plt.ylabel(\"selling_price\")\n",
    "plt.xlabel(\"owner\")"
   ]
  },
  {
   "cell_type": "code",
   "execution_count": 11,
   "metadata": {},
   "outputs": [
    {
     "data": {
      "text/plain": [
       "Text(0.5, 0, 'owner')"
      ]
     },
     "execution_count": 11,
     "metadata": {},
     "output_type": "execute_result"
    },
    {
     "data": {
      "image/png": "[encoded data removed]",
      "text/plain": [
       "<Figure size 1000x500 with 1 Axes>"
      ]
     },
     "metadata": {},
     "output_type": "display_data"
    }
   ],
   "source": [
    "# Count number of each type of owner\n",
    "plt.figure(figsize=(10, 5))\n",
    "# Order categories by count\n",
    "count_idx = df['owner'].value_counts().index\n",
    "sns.countplot(data=df, x='owner', order=count_idx)\n",
    "\n",
    "plt.xlabel(\"owner\")"
   ]
  },
  {
   "cell_type": "markdown",
   "metadata": {},
   "source": [
    "Most of the cars in our dataset are first owner cars."
   ]
  },
  {
   "cell_type": "markdown",
   "metadata": {},
   "source": [
    "### Inspect \"fuel\""
   ]
  },
  {
   "cell_type": "code",
   "execution_count": 12,
   "metadata": {},
   "outputs": [
    {
     "data": {
      "text/plain": [
       "array(['Diesel', 'Petrol', 'LPG', 'CNG'], dtype=object)"
      ]
     },
     "execution_count": 12,
     "metadata": {},
     "output_type": "execute_result"
    }
   ],
   "source": [
    "# Check all unique values in column \"fuel\"\n",
    "df['fuel'].unique()"
   ]
  },
  {
   "cell_type": "code",
   "execution_count": 13,
   "metadata": {},
   "outputs": [
    {
     "data": {
      "text/plain": [
       "array(['Diesel', 'Petrol'], dtype=object)"
      ]
     },
     "execution_count": 13,
     "metadata": {},
     "output_type": "execute_result"
    }
   ],
   "source": [
    "# Remove all rows with CNG and LPG because CNG and LPG in \"fuel\" column\n",
    "to_remove = ['LPG', 'CNG']\n",
    "df =  df[~df['fuel'].isin(to_remove)].reset_index(drop=True)\n",
    "df['fuel'].unique()"
   ]
  },
  {
   "cell_type": "code",
   "execution_count": 14,
   "metadata": {},
   "outputs": [
    {
     "name": "stdout",
     "output_type": "stream",
     "text": [
      "----------------------------------------\n",
      "Means of selling_price by fuel\n",
      "----------------------------------------\n",
      "fuel\n",
      "Diesel    791326.0\n",
      "Petrol    457252.0\n",
      "Name: selling_price, dtype: float64\n",
      "----------------------------------------\n",
      "Median of selling_price by fuel\n",
      "----------------------------------------\n",
      "fuel\n",
      "Diesel    550000.0\n",
      "Petrol    340000.0\n",
      "Name: selling_price, dtype: float64\n"
     ]
    }
   ],
   "source": [
    "# Check selling_price via each category of fuel\n",
    "print('-'*40)\n",
    "print('Means of selling_price by fuel')\n",
    "print('-'*40)\n",
    "print(df.groupby(['fuel'])['selling_price'].mean().round())\n",
    "print('-'*40)\n",
    "print('Median of selling_price by fuel')\n",
    "print('-'*40)\n",
    "print(df.groupby(['fuel'])['selling_price'].median().round())"
   ]
  },
  {
   "cell_type": "code",
   "execution_count": 15,
   "metadata": {},
   "outputs": [
    {
     "data": {
      "text/plain": [
       "Text(0.5, 0, 'fuel')"
      ]
     },
     "execution_count": 15,
     "metadata": {},
     "output_type": "execute_result"
    },
    {
     "data": {
      "image/png": "[encoded data removed]",
      "text/plain": [
       "<Figure size 500x500 with 1 Axes>"
      ]
     },
     "metadata": {},
     "output_type": "display_data"
    }
   ],
   "source": [
    "# Box plot of the range of selling prices per each type of fuel\n",
    "plt.figure(figsize=(5, 5))\n",
    "# Order categories by median values in ascending order\n",
    "med_idx = df.groupby(['fuel'])['selling_price'].median().sort_values().index\n",
    "sns.boxplot(x = df[\"fuel\"], y = df[\"selling_price\"], order=med_idx);\n",
    "\n",
    "plt.ylim([0, 2000000])\n",
    "plt.ylabel(\"selling_price\")\n",
    "plt.xlabel(\"fuel\")"
   ]
  },
  {
   "cell_type": "code",
   "execution_count": 16,
   "metadata": {},
   "outputs": [
    {
     "data": {
      "text/plain": [
       "Text(0.5, 0, 'fuel')"
      ]
     },
     "execution_count": 16,
     "metadata": {},
     "output_type": "execute_result"
    },
    {
     "data": {
      "image/png": "[encoded data removed]",
      "text/plain": [
       "<Figure size 400x400 with 1 Axes>"
      ]
     },
     "metadata": {},
     "output_type": "display_data"
    }
   ],
   "source": [
    "# Count number of each type of fuel\n",
    "plt.figure(figsize=(4, 4))\n",
    "# Order categories by count\n",
    "count_idx = df['fuel'].value_counts().index\n",
    "sns.countplot(data=df, x='fuel', order=count_idx)\n",
    "\n",
    "plt.xlabel(\"fuel\")"
   ]
  },
  {
   "cell_type": "markdown",
   "metadata": {},
   "source": [
    "### Inspect \"mileage\""
   ]
  },
  {
   "cell_type": "code",
   "execution_count": 17,
   "metadata": {},
   "outputs": [
    {
     "data": {
      "text/plain": [
       "0    23.40\n",
       "1    21.14\n",
       "2    17.70\n",
       "3    23.00\n",
       "4    16.10\n",
       "Name: mileage, dtype: float64"
      ]
     },
     "execution_count": 17,
     "metadata": {},
     "output_type": "execute_result"
    }
   ],
   "source": [
    "# For mileage, remove \"kmpl\" and convert the column to float type\n",
    "df['mileage'] = df['mileage'].str.split().str[0].astype(float)\n",
    "df['mileage'].head()"
   ]
  },
  {
   "cell_type": "code",
   "execution_count": 18,
   "metadata": {},
   "outputs": [
    {
     "name": "stdout",
     "output_type": "stream",
     "text": [
      "Mean of mileage: 19.391961863322244\n",
      "Median of mileage: 19.3\n"
     ]
    },
    {
     "data": {
      "image/png": "[encoded data removed]",
      "text/plain": [
       "<Figure size 500x500 with 1 Axes>"
      ]
     },
     "metadata": {},
     "output_type": "display_data"
    }
   ],
   "source": [
    "# Distribution plot of mileage\n",
    "# From the graph, we can see that mileage is normally distributed\n",
    "sns.displot(data = df, x = 'mileage')\n",
    "\n",
    "# Mean and Median of mileage\n",
    "print(f\"Mean of mileage: {df['mileage'].mean()}\")\n",
    "print(f\"Median of mileage: {df['mileage'].median()}\")"
   ]
  },
  {
   "cell_type": "markdown",
   "metadata": {},
   "source": [
    "### Inspect \"km_driven\""
   ]
  },
  {
   "cell_type": "code",
   "execution_count": 19,
   "metadata": {},
   "outputs": [
    {
     "name": "stdout",
     "output_type": "stream",
     "text": [
      "Mean of km_driven: 69773.14025909317\n",
      "Median of km_driven: 60000.0\n"
     ]
    },
    {
     "data": {
      "image/png": "[encoded data removed]",
      "text/plain": [
       "<Figure size 500x500 with 1 Axes>"
      ]
     },
     "metadata": {},
     "output_type": "display_data"
    }
   ],
   "source": [
    "# Distribution plot of km_driven\n",
    "sns.displot(data = df, x = 'km_driven')\n",
    "\n",
    "# Mean and Median of mileage\n",
    "print(f\"Mean of km_driven: {df['km_driven'].mean()}\")\n",
    "print(f\"Median of km_driven: {df['km_driven'].median()}\")"
   ]
  },
  {
   "cell_type": "markdown",
   "metadata": {},
   "source": [
    "### Inspect \"engine\""
   ]
  },
  {
   "cell_type": "code",
   "execution_count": 20,
   "metadata": {},
   "outputs": [
    {
     "data": {
      "text/plain": [
       "0    1248.0\n",
       "1    1498.0\n",
       "2    1497.0\n",
       "3    1396.0\n",
       "4    1298.0\n",
       "Name: engine, dtype: float64"
      ]
     },
     "execution_count": 20,
     "metadata": {},
     "output_type": "execute_result"
    }
   ],
   "source": [
    "# For engine, remove \"CC\" and convert the column to float\n",
    "df['engine'] = df['engine'].str.split().str[0].astype(float)\n",
    "df['engine'].head()"
   ]
  },
  {
   "cell_type": "code",
   "execution_count": 21,
   "metadata": {},
   "outputs": [
    {
     "name": "stdout",
     "output_type": "stream",
     "text": [
      "Mean of max_power: 1462.9146403890454\n",
      "Median of max_power: 1248.0\n"
     ]
    },
    {
     "data": {
      "image/png": "[encoded data removed]",
      "text/plain": [
       "<Figure size 500x500 with 1 Axes>"
      ]
     },
     "metadata": {},
     "output_type": "display_data"
    }
   ],
   "source": [
    "# Distribution plot of engine\n",
    "sns.displot(data = df, x = 'engine')\n",
    "\n",
    "# Mean and Median of engine\n",
    "print(f\"Mean of max_power: {df['engine'].mean()}\")\n",
    "print(f\"Median of max_power: {df['engine'].median()}\")"
   ]
  },
  {
   "cell_type": "markdown",
   "metadata": {},
   "source": [
    "### Inspect \"max_power\""
   ]
  },
  {
   "cell_type": "code",
   "execution_count": 22,
   "metadata": {},
   "outputs": [
    {
     "data": {
      "text/plain": [
       "0        74.00\n",
       "1       103.52\n",
       "2        78.00\n",
       "3        90.00\n",
       "4        88.20\n",
       "         ...  \n",
       "8023     82.85\n",
       "8024    110.00\n",
       "8025     73.90\n",
       "8026     70.00\n",
       "8027     70.00\n",
       "Name: max_power, Length: 8028, dtype: float64"
      ]
     },
     "execution_count": 22,
     "metadata": {},
     "output_type": "execute_result"
    }
   ],
   "source": [
    "# For max_power, remove \"bhp\" and convert the column to float\n",
    "df['max_power'] = df['max_power'].str.split().str[0].astype(float)\n",
    "df['max_power']"
   ]
  },
  {
   "cell_type": "code",
   "execution_count": 23,
   "metadata": {},
   "outputs": [
    {
     "name": "stdout",
     "output_type": "stream",
     "text": [
      "Mean of max_power: 91.8197257033248\n",
      "Median of max_power: 82.4\n"
     ]
    },
    {
     "data": {
      "image/png": "[encoded data removed]",
      "text/plain": [
       "<Figure size 500x500 with 1 Axes>"
      ]
     },
     "metadata": {},
     "output_type": "display_data"
    }
   ],
   "source": [
    "# Distribution plot of max_power\n",
    "sns.displot(data = df, x = 'max_power')\n",
    "\n",
    "# Mean and Median of engine\n",
    "print(f\"Mean of max_power: {df['max_power'].mean()}\")\n",
    "print(f\"Median of max_power: {df['max_power'].median()}\")"
   ]
  },
  {
   "cell_type": "markdown",
   "metadata": {},
   "source": [
    "### Inspect \"seller_type\""
   ]
  },
  {
   "cell_type": "code",
   "execution_count": 24,
   "metadata": {},
   "outputs": [
    {
     "name": "stdout",
     "output_type": "stream",
     "text": [
      "----------------------------------------\n",
      "Means of selling_price by seller_type\n",
      "----------------------------------------\n",
      "seller_type\n",
      "Dealer              1432547.0\n",
      "Individual           501847.0\n",
      "Trustmark Dealer     801839.0\n",
      "Name: selling_price, dtype: float64\n",
      "----------------------------------------\n",
      "Median of selling_price by seller_type\n",
      "----------------------------------------\n",
      "seller_type\n",
      "Dealer              690000.0\n",
      "Individual          400000.0\n",
      "Trustmark Dealer    650000.0\n",
      "Name: selling_price, dtype: float64\n"
     ]
    }
   ],
   "source": [
    "# Check selling_price via each category of seller_type\n",
    "print('-'*40)\n",
    "print('Means of selling_price by seller_type')\n",
    "print('-'*40)\n",
    "print(df.groupby(['seller_type'])['selling_price'].mean().round())\n",
    "print('-'*40)\n",
    "print('Median of selling_price by seller_type')\n",
    "print('-'*40)\n",
    "print(df.groupby(['seller_type'])['selling_price'].median().round())"
   ]
  },
  {
   "cell_type": "code",
   "execution_count": 25,
   "metadata": {},
   "outputs": [
    {
     "data": {
      "text/plain": [
       "Text(0.5, 0, 'seller_type')"
      ]
     },
     "execution_count": 25,
     "metadata": {},
     "output_type": "execute_result"
    },
    {
     "data": {
      "image/png": "[encoded data removed]",
      "text/plain": [
       "<Figure size 700x500 with 1 Axes>"
      ]
     },
     "metadata": {},
     "output_type": "display_data"
    }
   ],
   "source": [
    "# Box plot of the range of selling prices per each type of fuel\n",
    "plt.figure(figsize=(7, 5))\n",
    "# Order categories by median values in ascending order\n",
    "med_idx = df.groupby(['seller_type'])['selling_price'].median().sort_values().index\n",
    "sns.boxplot(x = df[\"seller_type\"], y = df[\"selling_price\"], order=med_idx);\n",
    "\n",
    "plt.ylim([0, 5000000])\n",
    "plt.ylabel(\"selling_price\")\n",
    "plt.xlabel(\"seller_type\")"
   ]
  },
  {
   "cell_type": "code",
   "execution_count": 26,
   "metadata": {},
   "outputs": [
    {
     "data": {
      "text/plain": [
       "Text(0.5, 0, 'seller_type')"
      ]
     },
     "execution_count": 26,
     "metadata": {},
     "output_type": "execute_result"
    },
    {
     "data": {
      "image/png": "[encoded data removed]",
      "text/plain": [
       "<Figure size 500x500 with 1 Axes>"
      ]
     },
     "metadata": {},
     "output_type": "display_data"
    }
   ],
   "source": [
    "# Count number of each seller type\n",
    "plt.figure(figsize=(5, 5))\n",
    "# Order categories by count\n",
    "count_idx = df['seller_type'].value_counts().index\n",
    "sns.countplot(data=df, x='seller_type', order=count_idx)\n",
    "\n",
    "plt.xlabel(\"seller_type\")"
   ]
  },
  {
   "cell_type": "markdown",
   "metadata": {},
   "source": [
    "Most cars were sold by individual seller."
   ]
  },
  {
   "cell_type": "markdown",
   "metadata": {},
   "source": [
    "### Inspect \"seats\""
   ]
  },
  {
   "cell_type": "code",
   "execution_count": 27,
   "metadata": {},
   "outputs": [
    {
     "name": "stdout",
     "output_type": "stream",
     "text": [
      "----------------------------------------\n",
      "Means of selling_price by seats\n",
      "----------------------------------------\n",
      "seats\n",
      "2.0     700500.0\n",
      "4.0     491393.0\n",
      "5.0     631792.0\n",
      "6.0     581597.0\n",
      "7.0     813163.0\n",
      "8.0     585855.0\n",
      "9.0     500075.0\n",
      "10.0    344105.0\n",
      "14.0    235000.0\n",
      "Name: selling_price, dtype: float64\n",
      "----------------------------------------\n",
      "Median of selling_price by seats\n",
      "----------------------------------------\n",
      "seats\n",
      "2.0     700500.0\n",
      "4.0      65000.0\n",
      "5.0     425000.0\n",
      "6.0     500000.0\n",
      "7.0     690000.0\n",
      "8.0     500000.0\n",
      "9.0     500000.0\n",
      "10.0    295000.0\n",
      "14.0    235000.0\n",
      "Name: selling_price, dtype: float64\n"
     ]
    }
   ],
   "source": [
    "# Check selling_price via each category of seats\n",
    "print('-'*40)\n",
    "print('Means of selling_price by seats')\n",
    "print('-'*40)\n",
    "print(df.groupby(['seats'])['selling_price'].mean().round())\n",
    "print('-'*40)\n",
    "print('Median of selling_price by seats')\n",
    "print('-'*40)\n",
    "print(df.groupby(['seats'])['selling_price'].median().round())"
   ]
  },
  {
   "cell_type": "code",
   "execution_count": 28,
   "metadata": {},
   "outputs": [
    {
     "data": {
      "text/plain": [
       "Text(0.5, 0, 'seats')"
      ]
     },
     "execution_count": 28,
     "metadata": {},
     "output_type": "execute_result"
    },
    {
     "data": {
      "image/png": "[encoded data removed]",
      "text/plain": [
       "<Figure size 700x500 with 1 Axes>"
      ]
     },
     "metadata": {},
     "output_type": "display_data"
    }
   ],
   "source": [
    "# Box plot of the range of selling prices per each type of seats\n",
    "plt.figure(figsize=(7, 5))\n",
    "sns.boxplot(x = df[\"seats\"], y = df[\"selling_price\"]);\n",
    "\n",
    "plt.ylim([0, 5000000])\n",
    "plt.ylabel(\"selling_price\")\n",
    "plt.xlabel(\"seats\")"
   ]
  },
  {
   "cell_type": "code",
   "execution_count": 29,
   "metadata": {},
   "outputs": [
    {
     "data": {
      "text/plain": [
       "Text(0.5, 0, 'seats')"
      ]
     },
     "execution_count": 29,
     "metadata": {},
     "output_type": "execute_result"
    },
    {
     "data": {
      "image/png": "[encoded data removed]",
      "text/plain": [
       "<Figure size 500x500 with 1 Axes>"
      ]
     },
     "metadata": {},
     "output_type": "display_data"
    }
   ],
   "source": [
    "# Count number of each seats\n",
    "plt.figure(figsize=(5, 5))\n",
    "sns.countplot(data=df, x='seats')\n",
    "\n",
    "plt.xlabel(\"seats\")"
   ]
  },
  {
   "cell_type": "markdown",
   "metadata": {},
   "source": [
    "### Inspect \"name\""
   ]
  },
  {
   "cell_type": "code",
   "execution_count": 30,
   "metadata": {},
   "outputs": [
    {
     "data": {
      "text/html": [
       "<div>\n",
       "<style scoped>\n",
       "    .dataframe tbody tr th:only-of-type {\n",
       "        vertical-align: middle;\n",
       "    }\n",
       "\n",
       "    .dataframe tbody tr th {\n",
       "        vertical-align: top;\n",
       "    }\n",
       "\n",
       "    .dataframe thead th {\n",
       "        text-align: right;\n",
       "    }\n",
       "</style>\n",
       "<table border=\"1\" class=\"dataframe\">\n",
       "  <thead>\n",
       "    <tr style=\"text-align: right;\">\n",
       "      <th></th>\n",
       "      <th>brand</th>\n",
       "      <th>year</th>\n",
       "      <th>selling_price</th>\n",
       "      <th>km_driven</th>\n",
       "      <th>fuel</th>\n",
       "      <th>seller_type</th>\n",
       "      <th>transmission</th>\n",
       "      <th>owner</th>\n",
       "      <th>mileage</th>\n",
       "      <th>engine</th>\n",
       "      <th>max_power</th>\n",
       "      <th>torque</th>\n",
       "      <th>seats</th>\n",
       "    </tr>\n",
       "  </thead>\n",
       "  <tbody>\n",
       "    <tr>\n",
       "      <th>0</th>\n",
       "      <td>Maruti</td>\n",
       "      <td>2014</td>\n",
       "      <td>450000</td>\n",
       "      <td>145500</td>\n",
       "      <td>Diesel</td>\n",
       "      <td>Individual</td>\n",
       "      <td>Manual</td>\n",
       "      <td>1</td>\n",
       "      <td>23.40</td>\n",
       "      <td>1248.0</td>\n",
       "      <td>74.00</td>\n",
       "      <td>190Nm@ 2000rpm</td>\n",
       "      <td>5.0</td>\n",
       "    </tr>\n",
       "    <tr>\n",
       "      <th>1</th>\n",
       "      <td>Skoda</td>\n",
       "      <td>2014</td>\n",
       "      <td>370000</td>\n",
       "      <td>120000</td>\n",
       "      <td>Diesel</td>\n",
       "      <td>Individual</td>\n",
       "      <td>Manual</td>\n",
       "      <td>2</td>\n",
       "      <td>21.14</td>\n",
       "      <td>1498.0</td>\n",
       "      <td>103.52</td>\n",
       "      <td>250Nm@ 1500-2500rpm</td>\n",
       "      <td>5.0</td>\n",
       "    </tr>\n",
       "    <tr>\n",
       "      <th>2</th>\n",
       "      <td>Honda</td>\n",
       "      <td>2006</td>\n",
       "      <td>158000</td>\n",
       "      <td>140000</td>\n",
       "      <td>Petrol</td>\n",
       "      <td>Individual</td>\n",
       "      <td>Manual</td>\n",
       "      <td>3</td>\n",
       "      <td>17.70</td>\n",
       "      <td>1497.0</td>\n",
       "      <td>78.00</td>\n",
       "      <td>12.7@ 2,700(kgm@ rpm)</td>\n",
       "      <td>5.0</td>\n",
       "    </tr>\n",
       "    <tr>\n",
       "      <th>3</th>\n",
       "      <td>Hyundai</td>\n",
       "      <td>2010</td>\n",
       "      <td>225000</td>\n",
       "      <td>127000</td>\n",
       "      <td>Diesel</td>\n",
       "      <td>Individual</td>\n",
       "      <td>Manual</td>\n",
       "      <td>1</td>\n",
       "      <td>23.00</td>\n",
       "      <td>1396.0</td>\n",
       "      <td>90.00</td>\n",
       "      <td>22.4 kgm at 1750-2750rpm</td>\n",
       "      <td>5.0</td>\n",
       "    </tr>\n",
       "    <tr>\n",
       "      <th>4</th>\n",
       "      <td>Maruti</td>\n",
       "      <td>2007</td>\n",
       "      <td>130000</td>\n",
       "      <td>120000</td>\n",
       "      <td>Petrol</td>\n",
       "      <td>Individual</td>\n",
       "      <td>Manual</td>\n",
       "      <td>1</td>\n",
       "      <td>16.10</td>\n",
       "      <td>1298.0</td>\n",
       "      <td>88.20</td>\n",
       "      <td>11.5@ 4,500(kgm@ rpm)</td>\n",
       "      <td>5.0</td>\n",
       "    </tr>\n",
       "  </tbody>\n",
       "</table>\n",
       "</div>"
      ],
      "text/plain": [
       "     brand  year  selling_price  km_driven    fuel seller_type transmission  \\\n",
       "0   Maruti  2014         450000     145500  Diesel  Individual       Manual   \n",
       "1    Skoda  2014         370000     120000  Diesel  Individual       Manual   \n",
       "2    Honda  2006         158000     140000  Petrol  Individual       Manual   \n",
       "3  Hyundai  2010         225000     127000  Diesel  Individual       Manual   \n",
       "4   Maruti  2007         130000     120000  Petrol  Individual       Manual   \n",
       "\n",
       "   owner  mileage  engine  max_power                    torque  seats  \n",
       "0      1    23.40  1248.0      74.00            190Nm@ 2000rpm    5.0  \n",
       "1      2    21.14  1498.0     103.52       250Nm@ 1500-2500rpm    5.0  \n",
       "2      3    17.70  1497.0      78.00     12.7@ 2,700(kgm@ rpm)    5.0  \n",
       "3      1    23.00  1396.0      90.00  22.4 kgm at 1750-2750rpm    5.0  \n",
       "4      1    16.10  1298.0      88.20     11.5@ 4,500(kgm@ rpm)    5.0  "
      ]
     },
     "execution_count": 30,
     "metadata": {},
     "output_type": "execute_result"
    }
   ],
   "source": [
    "# For the feature brand, take only the first word and remove the rest\n",
    "df['name'] = df['name'].str.split().str[0]\n",
    "df.rename(columns={'name': 'brand'}, inplace=True)\n",
    "df.head()"
   ]
  },
  {
   "cell_type": "code",
   "execution_count": 31,
   "metadata": {},
   "outputs": [
    {
     "name": "stdout",
     "output_type": "stream",
     "text": [
      "----------------------------------------\n",
      "Means of selling_price by brand\n",
      "----------------------------------------\n",
      "brand\n",
      "Ambassador        124000.0\n",
      "Ashok             300000.0\n",
      "Audi             2319432.0\n",
      "BMW              4109917.0\n",
      "Chevrolet         274515.0\n",
      "Daewoo             77000.0\n",
      "Datsun            314600.0\n",
      "Fiat              296064.0\n",
      "Force             887500.0\n",
      "Ford              516683.0\n",
      "Honda             593166.0\n",
      "Hyundai           462422.0\n",
      "Isuzu            1942000.0\n",
      "Jaguar           2915465.0\n",
      "Jeep             2149613.0\n",
      "Kia              1504500.0\n",
      "Land             3608333.0\n",
      "Lexus            5150000.0\n",
      "MG               1783333.0\n",
      "Mahindra          623224.0\n",
      "Maruti            406733.0\n",
      "Mercedes-Benz    2470444.0\n",
      "Mitsubishi        817500.0\n",
      "Nissan            465407.0\n",
      "Opel               68000.0\n",
      "Peugeot            57000.0\n",
      "Renault           462618.0\n",
      "Skoda             607724.0\n",
      "Tata              357709.0\n",
      "Toyota            959947.0\n",
      "Volkswagen        494216.0\n",
      "Volvo            3272015.0\n",
      "Name: selling_price, dtype: float64\n"
     ]
    }
   ],
   "source": [
    "# Check the mean selling price by car brand\n",
    "print('-'*40)\n",
    "print('Means of selling_price by brand')\n",
    "print('-'*40)\n",
    "print(df.groupby(['brand'])['selling_price'].mean().round())"
   ]
  },
  {
   "cell_type": "code",
   "execution_count": 32,
   "metadata": {},
   "outputs": [
    {
     "name": "stdout",
     "output_type": "stream",
     "text": [
      "----------------------------------------\n",
      "Median of selling_price by brand\n",
      "----------------------------------------\n",
      "brand\n",
      "Ambassador        110500.0\n",
      "Ashok             300000.0\n",
      "Audi             2200000.0\n",
      "BMW              5400000.0\n",
      "Chevrolet         223000.0\n",
      "Daewoo             86000.0\n",
      "Datsun            300000.0\n",
      "Fiat              280000.0\n",
      "Force             910000.0\n",
      "Ford              480000.0\n",
      "Honda             567500.0\n",
      "Hyundai           445000.0\n",
      "Isuzu            1900000.0\n",
      "Jaguar           3000000.0\n",
      "Jeep             1675000.0\n",
      "Kia              1737500.0\n",
      "Land             4500000.0\n",
      "Lexus            5150000.0\n",
      "MG               1750000.0\n",
      "Mahindra          560000.0\n",
      "Maruti            370000.0\n",
      "Mercedes-Benz    2075500.0\n",
      "Mitsubishi        787500.0\n",
      "Nissan            375000.0\n",
      "Opel               68000.0\n",
      "Peugeot            57000.0\n",
      "Renault           397000.0\n",
      "Skoda             645000.0\n",
      "Tata              280000.0\n",
      "Toyota            750000.0\n",
      "Volkswagen        425000.0\n",
      "Volvo            3400000.0\n",
      "Name: selling_price, dtype: float64\n"
     ]
    }
   ],
   "source": [
    "# Check the median selling price by car brand\n",
    "print('-'*40)\n",
    "print('Median of selling_price by brand')\n",
    "print('-'*40)\n",
    "print(df.groupby(['brand'])['selling_price'].median().round())"
   ]
  },
  {
   "cell_type": "code",
   "execution_count": 33,
   "metadata": {},
   "outputs": [
    {
     "data": {
      "text/plain": [
       "Text(0.5, 0, 'brand')"
      ]
     },
     "execution_count": 33,
     "metadata": {},
     "output_type": "execute_result"
    },
    {
     "data": {
      "image/png": "[encoded data removed]",
      "text/plain": [
       "<Figure size 1500x700 with 1 Axes>"
      ]
     },
     "metadata": {},
     "output_type": "display_data"
    }
   ],
   "source": [
    "plt.figure(figsize=(15, 7))\n",
    "# Order the box plot by median values in ascending order\n",
    "med_idx = df.groupby(['brand'])['selling_price'].median().sort_values().index\n",
    "sns.boxplot(x = df[\"brand\"], y = df[\"selling_price\"], order=med_idx);\n",
    "\n",
    "plt.xticks(rotation='vertical')\n",
    "plt.ylabel(\"selling_price\")\n",
    "plt.xlabel(\"brand\")"
   ]
  },
  {
   "cell_type": "markdown",
   "metadata": {},
   "source": [
    "We can see from the boxplot that each car brand has vastly different price range, therefore car brand can be selected as a predictor of selling price"
   ]
  },
  {
   "cell_type": "code",
   "execution_count": 34,
   "metadata": {},
   "outputs": [
    {
     "data": {
      "text/plain": [
       "Text(0.5, 0, 'brand')"
      ]
     },
     "execution_count": 34,
     "metadata": {},
     "output_type": "execute_result"
    },
    {
     "data": {
      "image/png": "[encoded data removed]",
      "text/plain": [
       "<Figure size 1500x500 with 1 Axes>"
      ]
     },
     "metadata": {},
     "output_type": "display_data"
    }
   ],
   "source": [
    "# Count number of each car brand\n",
    "plt.figure(figsize=(15, 5))\n",
    "# Order categories by count\n",
    "count_idx = df['brand'].value_counts().index\n",
    "sns.countplot(data=df, x='brand', order=count_idx)\n",
    "\n",
    "plt.xticks(rotation='vertical')\n",
    "plt.xlabel(\"brand\")"
   ]
  },
  {
   "cell_type": "markdown",
   "metadata": {},
   "source": [
    "From the above count plot, Maruti brand appears the most in our dataset (mode)"
   ]
  },
  {
   "cell_type": "markdown",
   "metadata": {},
   "source": [
    "### Inspect \"transmission\""
   ]
  },
  {
   "cell_type": "code",
   "execution_count": 35,
   "metadata": {},
   "outputs": [
    {
     "name": "stdout",
     "output_type": "stream",
     "text": [
      "----------------------------------------\n",
      "Means of selling_price by transmission\n",
      "----------------------------------------\n",
      "transmission\n",
      "Automatic    1858222.0\n",
      "Manual        457946.0\n",
      "Name: selling_price, dtype: float64\n",
      "----------------------------------------\n",
      "Median of selling_price by transmission\n",
      "----------------------------------------\n",
      "transmission\n",
      "Automatic    1082500.0\n",
      "Manual        400000.0\n",
      "Name: selling_price, dtype: float64\n"
     ]
    }
   ],
   "source": [
    "# Check selling_price via each category of seller_type\n",
    "print('-'*40)\n",
    "print('Means of selling_price by transmission')\n",
    "print('-'*40)\n",
    "print(df.groupby(['transmission'])['selling_price'].mean().round())\n",
    "print('-'*40)\n",
    "print('Median of selling_price by transmission')\n",
    "print('-'*40)\n",
    "print(df.groupby(['transmission'])['selling_price'].median().round())"
   ]
  },
  {
   "cell_type": "code",
   "execution_count": 36,
   "metadata": {},
   "outputs": [
    {
     "data": {
      "text/plain": [
       "Text(0.5, 0, 'transmission')"
      ]
     },
     "execution_count": 36,
     "metadata": {},
     "output_type": "execute_result"
    },
    {
     "data": {
      "image/png": "[encoded data removed]",
      "text/plain": [
       "<Figure size 500x500 with 1 Axes>"
      ]
     },
     "metadata": {},
     "output_type": "display_data"
    }
   ],
   "source": [
    "# Box plot of the range of selling prices per each type of transmission\n",
    "plt.figure(figsize=(5, 5))\n",
    "# Order the box plot by median values in ascending order\n",
    "med_idx = df.groupby(['transmission'])['selling_price'].median().sort_values().index\n",
    "sns.boxplot(x = df[\"transmission\"], y = df[\"selling_price\"], order=med_idx);\n",
    "\n",
    "# plt.ylim([0, 5000000])\n",
    "plt.ylabel(\"selling_price\")\n",
    "plt.xlabel(\"transmission\")"
   ]
  },
  {
   "cell_type": "code",
   "execution_count": 37,
   "metadata": {},
   "outputs": [
    {
     "data": {
      "text/plain": [
       "Text(0.5, 0, 'transmission')"
      ]
     },
     "execution_count": 37,
     "metadata": {},
     "output_type": "execute_result"
    },
    {
     "data": {
      "image/png": "[encoded data removed]",
      "text/plain": [
       "<Figure size 500x500 with 1 Axes>"
      ]
     },
     "metadata": {},
     "output_type": "display_data"
    }
   ],
   "source": [
    "# Count number of each transmission type\n",
    "plt.figure(figsize=(5, 5))\n",
    "# Order categories by count\n",
    "count_idx = df['transmission'].value_counts().index\n",
    "sns.countplot(data=df, x='transmission', order=count_idx)\n",
    "\n",
    "plt.xlabel(\"transmission\")"
   ]
  },
  {
   "cell_type": "markdown",
   "metadata": {},
   "source": [
    "### Inspect \"year\""
   ]
  },
  {
   "cell_type": "code",
   "execution_count": 38,
   "metadata": {},
   "outputs": [
    {
     "name": "stdout",
     "output_type": "stream",
     "text": [
      "Mean of year: 2013.8155206776282\n",
      "Median of year: 2015.0\n",
      "Minimum of year: 1983\n",
      "Maximum of year: 2020\n"
     ]
    },
    {
     "data": {
      "image/png": "[encoded data removed]",
      "text/plain": [
       "<Figure size 500x500 with 1 Axes>"
      ]
     },
     "metadata": {},
     "output_type": "display_data"
    }
   ],
   "source": [
    "# Distribution plot of max_power\n",
    "sns.displot(data=df, x='year')\n",
    "\n",
    "# Mean and Median of year\n",
    "print(f\"Mean of year: {df['year'].mean()}\")\n",
    "print(f\"Median of year: {df['year'].median()}\")\n",
    "\n",
    "# Minimum and Maximum of year\n",
    "print(f\"Minimum of year: {df['year'].min()}\")\n",
    "print(f\"Maximum of year: {df['year'].max()}\")"
   ]
  },
  {
   "cell_type": "markdown",
   "metadata": {},
   "source": [
    "### Inpect \"torque\""
   ]
  },
  {
   "cell_type": "code",
   "execution_count": 39,
   "metadata": {},
   "outputs": [
    {
     "data": {
      "text/html": [
       "<div>\n",
       "<style scoped>\n",
       "    .dataframe tbody tr th:only-of-type {\n",
       "        vertical-align: middle;\n",
       "    }\n",
       "\n",
       "    .dataframe tbody tr th {\n",
       "        vertical-align: top;\n",
       "    }\n",
       "\n",
       "    .dataframe thead th {\n",
       "        text-align: right;\n",
       "    }\n",
       "</style>\n",
       "<table border=\"1\" class=\"dataframe\">\n",
       "  <thead>\n",
       "    <tr style=\"text-align: right;\">\n",
       "      <th></th>\n",
       "      <th>brand</th>\n",
       "      <th>year</th>\n",
       "      <th>selling_price</th>\n",
       "      <th>km_driven</th>\n",
       "      <th>fuel</th>\n",
       "      <th>seller_type</th>\n",
       "      <th>transmission</th>\n",
       "      <th>owner</th>\n",
       "      <th>mileage</th>\n",
       "      <th>engine</th>\n",
       "      <th>max_power</th>\n",
       "      <th>seats</th>\n",
       "    </tr>\n",
       "  </thead>\n",
       "  <tbody>\n",
       "    <tr>\n",
       "      <th>0</th>\n",
       "      <td>Maruti</td>\n",
       "      <td>2014</td>\n",
       "      <td>450000</td>\n",
       "      <td>145500</td>\n",
       "      <td>Diesel</td>\n",
       "      <td>Individual</td>\n",
       "      <td>Manual</td>\n",
       "      <td>1</td>\n",
       "      <td>23.40</td>\n",
       "      <td>1248.0</td>\n",
       "      <td>74.00</td>\n",
       "      <td>5.0</td>\n",
       "    </tr>\n",
       "    <tr>\n",
       "      <th>1</th>\n",
       "      <td>Skoda</td>\n",
       "      <td>2014</td>\n",
       "      <td>370000</td>\n",
       "      <td>120000</td>\n",
       "      <td>Diesel</td>\n",
       "      <td>Individual</td>\n",
       "      <td>Manual</td>\n",
       "      <td>2</td>\n",
       "      <td>21.14</td>\n",
       "      <td>1498.0</td>\n",
       "      <td>103.52</td>\n",
       "      <td>5.0</td>\n",
       "    </tr>\n",
       "    <tr>\n",
       "      <th>2</th>\n",
       "      <td>Honda</td>\n",
       "      <td>2006</td>\n",
       "      <td>158000</td>\n",
       "      <td>140000</td>\n",
       "      <td>Petrol</td>\n",
       "      <td>Individual</td>\n",
       "      <td>Manual</td>\n",
       "      <td>3</td>\n",
       "      <td>17.70</td>\n",
       "      <td>1497.0</td>\n",
       "      <td>78.00</td>\n",
       "      <td>5.0</td>\n",
       "    </tr>\n",
       "    <tr>\n",
       "      <th>3</th>\n",
       "      <td>Hyundai</td>\n",
       "      <td>2010</td>\n",
       "      <td>225000</td>\n",
       "      <td>127000</td>\n",
       "      <td>Diesel</td>\n",
       "      <td>Individual</td>\n",
       "      <td>Manual</td>\n",
       "      <td>1</td>\n",
       "      <td>23.00</td>\n",
       "      <td>1396.0</td>\n",
       "      <td>90.00</td>\n",
       "      <td>5.0</td>\n",
       "    </tr>\n",
       "    <tr>\n",
       "      <th>4</th>\n",
       "      <td>Maruti</td>\n",
       "      <td>2007</td>\n",
       "      <td>130000</td>\n",
       "      <td>120000</td>\n",
       "      <td>Petrol</td>\n",
       "      <td>Individual</td>\n",
       "      <td>Manual</td>\n",
       "      <td>1</td>\n",
       "      <td>16.10</td>\n",
       "      <td>1298.0</td>\n",
       "      <td>88.20</td>\n",
       "      <td>5.0</td>\n",
       "    </tr>\n",
       "  </tbody>\n",
       "</table>\n",
       "</div>"
      ],
      "text/plain": [
       "     brand  year  selling_price  km_driven    fuel seller_type transmission  \\\n",
       "0   Maruti  2014         450000     145500  Diesel  Individual       Manual   \n",
       "1    Skoda  2014         370000     120000  Diesel  Individual       Manual   \n",
       "2    Honda  2006         158000     140000  Petrol  Individual       Manual   \n",
       "3  Hyundai  2010         225000     127000  Diesel  Individual       Manual   \n",
       "4   Maruti  2007         130000     120000  Petrol  Individual       Manual   \n",
       "\n",
       "   owner  mileage  engine  max_power  seats  \n",
       "0      1    23.40  1248.0      74.00    5.0  \n",
       "1      2    21.14  1498.0     103.52    5.0  \n",
       "2      3    17.70  1497.0      78.00    5.0  \n",
       "3      1    23.00  1396.0      90.00    5.0  \n",
       "4      1    16.10  1298.0      88.20    5.0  "
      ]
     },
     "execution_count": 39,
     "metadata": {},
     "output_type": "execute_result"
    }
   ],
   "source": [
    "# Chaky’s company does not understand well about the feature 'torque'\n",
    "# Therefore we will drop it\n",
    "df.drop(columns='torque', inplace=True)\n",
    "df.head()"
   ]
  },
  {
   "cell_type": "markdown",
   "metadata": {},
   "source": [
    "### Convert \"selling_price\" into discrete variable"
   ]
  },
  {
   "cell_type": "code",
   "execution_count": 40,
   "metadata": {},
   "outputs": [
    {
     "data": {
      "text/html": [
       "<div>\n",
       "<style scoped>\n",
       "    .dataframe tbody tr th:only-of-type {\n",
       "        vertical-align: middle;\n",
       "    }\n",
       "\n",
       "    .dataframe tbody tr th {\n",
       "        vertical-align: top;\n",
       "    }\n",
       "\n",
       "    .dataframe thead th {\n",
       "        text-align: right;\n",
       "    }\n",
       "</style>\n",
       "<table border=\"1\" class=\"dataframe\">\n",
       "  <thead>\n",
       "    <tr style=\"text-align: right;\">\n",
       "      <th></th>\n",
       "      <th>brand</th>\n",
       "      <th>year</th>\n",
       "      <th>selling_price</th>\n",
       "      <th>km_driven</th>\n",
       "      <th>fuel</th>\n",
       "      <th>seller_type</th>\n",
       "      <th>transmission</th>\n",
       "      <th>owner</th>\n",
       "      <th>mileage</th>\n",
       "      <th>engine</th>\n",
       "      <th>max_power</th>\n",
       "      <th>seats</th>\n",
       "    </tr>\n",
       "  </thead>\n",
       "  <tbody>\n",
       "    <tr>\n",
       "      <th>0</th>\n",
       "      <td>Maruti</td>\n",
       "      <td>2014</td>\n",
       "      <td>1</td>\n",
       "      <td>145500</td>\n",
       "      <td>Diesel</td>\n",
       "      <td>Individual</td>\n",
       "      <td>Manual</td>\n",
       "      <td>1</td>\n",
       "      <td>23.40</td>\n",
       "      <td>1248.0</td>\n",
       "      <td>74.00</td>\n",
       "      <td>5.0</td>\n",
       "    </tr>\n",
       "    <tr>\n",
       "      <th>1</th>\n",
       "      <td>Skoda</td>\n",
       "      <td>2014</td>\n",
       "      <td>1</td>\n",
       "      <td>120000</td>\n",
       "      <td>Diesel</td>\n",
       "      <td>Individual</td>\n",
       "      <td>Manual</td>\n",
       "      <td>2</td>\n",
       "      <td>21.14</td>\n",
       "      <td>1498.0</td>\n",
       "      <td>103.52</td>\n",
       "      <td>5.0</td>\n",
       "    </tr>\n",
       "    <tr>\n",
       "      <th>2</th>\n",
       "      <td>Honda</td>\n",
       "      <td>2006</td>\n",
       "      <td>0</td>\n",
       "      <td>140000</td>\n",
       "      <td>Petrol</td>\n",
       "      <td>Individual</td>\n",
       "      <td>Manual</td>\n",
       "      <td>3</td>\n",
       "      <td>17.70</td>\n",
       "      <td>1497.0</td>\n",
       "      <td>78.00</td>\n",
       "      <td>5.0</td>\n",
       "    </tr>\n",
       "    <tr>\n",
       "      <th>3</th>\n",
       "      <td>Hyundai</td>\n",
       "      <td>2010</td>\n",
       "      <td>0</td>\n",
       "      <td>127000</td>\n",
       "      <td>Diesel</td>\n",
       "      <td>Individual</td>\n",
       "      <td>Manual</td>\n",
       "      <td>1</td>\n",
       "      <td>23.00</td>\n",
       "      <td>1396.0</td>\n",
       "      <td>90.00</td>\n",
       "      <td>5.0</td>\n",
       "    </tr>\n",
       "    <tr>\n",
       "      <th>4</th>\n",
       "      <td>Maruti</td>\n",
       "      <td>2007</td>\n",
       "      <td>0</td>\n",
       "      <td>120000</td>\n",
       "      <td>Petrol</td>\n",
       "      <td>Individual</td>\n",
       "      <td>Manual</td>\n",
       "      <td>1</td>\n",
       "      <td>16.10</td>\n",
       "      <td>1298.0</td>\n",
       "      <td>88.20</td>\n",
       "      <td>5.0</td>\n",
       "    </tr>\n",
       "  </tbody>\n",
       "</table>\n",
       "</div>"
      ],
      "text/plain": [
       "     brand  year selling_price  km_driven    fuel seller_type transmission  \\\n",
       "0   Maruti  2014             1     145500  Diesel  Individual       Manual   \n",
       "1    Skoda  2014             1     120000  Diesel  Individual       Manual   \n",
       "2    Honda  2006             0     140000  Petrol  Individual       Manual   \n",
       "3  Hyundai  2010             0     127000  Diesel  Individual       Manual   \n",
       "4   Maruti  2007             0     120000  Petrol  Individual       Manual   \n",
       "\n",
       "   owner  mileage  engine  max_power  seats  \n",
       "0      1    23.40  1248.0      74.00    5.0  \n",
       "1      2    21.14  1498.0     103.52    5.0  \n",
       "2      3    17.70  1497.0      78.00    5.0  \n",
       "3      1    23.00  1396.0      90.00    5.0  \n",
       "4      1    16.10  1298.0      88.20    5.0  "
      ]
     },
     "execution_count": 40,
     "metadata": {},
     "output_type": "execute_result"
    }
   ],
   "source": [
    "df['selling_price'], price_bins = pd.qcut(x=df['selling_price'], q=4, labels=range(0, 4), retbins=True)\n",
    "df.head()"
   ]
  },
  {
   "cell_type": "code",
   "execution_count": 41,
   "metadata": {},
   "outputs": [
    {
     "data": {
      "text/plain": [
       "0    2050\n",
       "1    2044\n",
       "3    1991\n",
       "2    1943\n",
       "Name: selling_price, dtype: int64"
      ]
     },
     "execution_count": 41,
     "metadata": {},
     "output_type": "execute_result"
    }
   ],
   "source": [
    "# Count the number of each class in selling_price\n",
    "df['selling_price'].value_counts()"
   ]
  },
  {
   "cell_type": "code",
   "execution_count": 44,
   "metadata": {},
   "outputs": [
    {
     "data": {
      "text/plain": [
       "array([  260000.,   450000.,   680000., 10000000.])"
      ]
     },
     "execution_count": 44,
     "metadata": {},
     "output_type": "execute_result"
    }
   ],
   "source": [
    "# Maximum of of each bins (classes) ranges\n",
    "price_bins[1:]"
   ]
  },
  {
   "cell_type": "markdown",
   "metadata": {},
   "source": [
    "### Label and One-Hot Encoding"
   ]
  },
  {
   "cell_type": "code",
   "execution_count": 46,
   "metadata": {},
   "outputs": [
    {
     "data": {
      "text/plain": [
       "array(['Diesel', 'Petrol'], dtype=object)"
      ]
     },
     "execution_count": 46,
     "metadata": {},
     "output_type": "execute_result"
    }
   ],
   "source": [
    "# Check all unique values of 'brand'\n",
    "df['fuel'].unique()"
   ]
  },
  {
   "cell_type": "code",
   "execution_count": 47,
   "metadata": {},
   "outputs": [
    {
     "data": {
      "text/plain": [
       "array(['Manual', 'Automatic'], dtype=object)"
      ]
     },
     "execution_count": 47,
     "metadata": {},
     "output_type": "execute_result"
    }
   ],
   "source": [
    "# Check all unique values of 'transmission'\n",
    "df['transmission'].unique()"
   ]
  },
  {
   "cell_type": "code",
   "execution_count": 48,
   "metadata": {},
   "outputs": [
    {
     "data": {
      "text/plain": [
       "array(['Individual', 'Dealer', 'Trustmark Dealer'], dtype=object)"
      ]
     },
     "execution_count": 48,
     "metadata": {},
     "output_type": "execute_result"
    }
   ],
   "source": [
    "# Check all unique values of 'seller_type'\n",
    "df['seller_type'].unique()"
   ]
  },
  {
   "cell_type": "code",
   "execution_count": 49,
   "metadata": {},
   "outputs": [
    {
     "data": {
      "text/plain": [
       "array(['Maruti', 'Skoda', 'Honda', 'Hyundai', 'Toyota', 'Ford', 'Renault',\n",
       "       'Mahindra', 'Tata', 'Chevrolet', 'Fiat', 'Datsun', 'Jeep',\n",
       "       'Mercedes-Benz', 'Mitsubishi', 'Audi', 'Volkswagen', 'BMW',\n",
       "       'Nissan', 'Lexus', 'Jaguar', 'Land', 'MG', 'Volvo', 'Daewoo',\n",
       "       'Kia', 'Force', 'Ambassador', 'Ashok', 'Isuzu', 'Opel', 'Peugeot'],\n",
       "      dtype=object)"
      ]
     },
     "execution_count": 49,
     "metadata": {},
     "output_type": "execute_result"
    }
   ],
   "source": [
    "# Check all unique values of 'brand'\n",
    "df['brand'].unique()"
   ]
  },
  {
   "cell_type": "code",
   "execution_count": 50,
   "metadata": {},
   "outputs": [],
   "source": [
    "# Since 'fuel' and 'transmission' have only two unique values, we can do label encoding\n",
    "from sklearn.preprocessing import LabelEncoder\n",
    "\n",
    "# Label encoding on 'fuel'\n",
    "fuel_le = LabelEncoder()\n",
    "df['fuel'] = fuel_le.fit_transform(df['fuel'])\n",
    "\n",
    "# Label encoding on 'transmission'\n",
    "trans_le = LabelEncoder()\n",
    "df['transmission'] = trans_le.fit_transform(df['transmission'])"
   ]
  },
  {
   "cell_type": "code",
   "execution_count": 51,
   "metadata": {},
   "outputs": [],
   "source": [
    "from sklearn.preprocessing import OneHotEncoder\n",
    "\n",
    "# Create function for one-hot encoding a feature in dataframe \n",
    "def one_hot_transform(encoder, dataframe, feature):\n",
    "\n",
    "    encoded = encoder.transform(dataframe[[feature]])\n",
    "\n",
    "    # Transform encoded data arrays into dataframe where columns are based values\n",
    "    categories = encoder.categories_[0]\n",
    "    feature_df = pd.DataFrame(encoded.toarray(), columns=categories[1:])\n",
    "    concat_dataframe = pd.concat([dataframe, feature_df], axis=1)\n",
    "    \n",
    "    return concat_dataframe.drop(feature, axis=1)"
   ]
  },
  {
   "cell_type": "code",
   "execution_count": 52,
   "metadata": {},
   "outputs": [],
   "source": [
    "# Since 'brand' and 'seller_type' have more than two unique values, we should apply one-hot encoding\n",
    "brand_ohe = OneHotEncoder(drop='first').fit(df[['brand']])\n",
    "df = one_hot_transform(brand_ohe, df, 'brand')\n",
    "\n",
    "seller_type_ohe = OneHotEncoder(drop='first').fit(df[['seller_type']])\n",
    "df = one_hot_transform(seller_type_ohe, df, 'seller_type')"
   ]
  },
  {
   "cell_type": "code",
   "execution_count": 53,
   "metadata": {},
   "outputs": [],
   "source": [
    "# Excluding one-hot encoded features\n",
    "selected_cols = ['year', 'selling_price', 'km_driven', 'fuel', 'transmission', 'owner', 'mileage', 'engine', 'max_power', 'seats']\n",
    "dfcopy = df.copy()\n",
    "dfcopy = df[selected_cols]"
   ]
  },
  {
   "cell_type": "markdown",
   "metadata": {},
   "source": [
    "### Correlation and Predictive Power Matrices"
   ]
  },
  {
   "cell_type": "markdown",
   "metadata": {},
   "source": [
    "- We can use correlation matrix to find out which features are highly correlated with selling price (relavant features)\n",
    "- It also tells us which features are correlated with each other (redundant features)"
   ]
  },
  {
   "cell_type": "code",
   "execution_count": 54,
   "metadata": {},
   "outputs": [
    {
     "data": {
      "text/plain": [
       "<Axes: >"
      ]
     },
     "execution_count": 54,
     "metadata": {},
     "output_type": "execute_result"
    },
    {
     "data": {
      "image/png": "[encoded data removed]",
      "text/plain": [
       "<Figure size 1500x800 with 2 Axes>"
      ]
     },
     "metadata": {},
     "output_type": "display_data"
    }
   ],
   "source": [
    "plt.figure(figsize = (15,8))\n",
    "sns.heatmap(dfcopy.corr(numeric_only=True), annot=True, cmap=\"coolwarm\")"
   ]
  },
  {
   "cell_type": "markdown",
   "metadata": {},
   "source": [
    "Predictive power tells us how much influence does each feature has to the value of selling price"
   ]
  },
  {
   "cell_type": "code",
   "execution_count": 55,
   "metadata": {},
   "outputs": [
    {
     "data": {
      "text/plain": [
       "<Axes: xlabel='x', ylabel='y'>"
      ]
     },
     "execution_count": 55,
     "metadata": {},
     "output_type": "execute_result"
    },
    {
     "data": {
      "image/png": "[encoded data removed]",
      "text/plain": [
       "<Figure size 1500x800 with 2 Axes>"
      ]
     },
     "metadata": {},
     "output_type": "display_data"
    }
   ],
   "source": [
    "import ppscore as pps\n",
    "\n",
    "matrix_df = pps.matrix(dfcopy)[['x', 'y', 'ppscore']].pivot(columns='x', index='y', values='ppscore')\n",
    "\n",
    "plt.figure(figsize = (15,8))\n",
    "sns.heatmap(matrix_df, vmin=0, vmax=1, cmap=\"Blues\", linewidths=0.5, annot=True)"
   ]
  },
  {
   "cell_type": "markdown",
   "metadata": {},
   "source": [
    "## 3. Data Preprocessing"
   ]
  },
  {
   "cell_type": "markdown",
   "metadata": {},
   "source": [
    "- From the ppscore matrix, we will select only features with predictive power score > 0.1 in order to predict \"selling_price\"\n",
    "- However, we will not select \"engine\" because it has high correlation with \"max_power\" and has much lower predictive power.\n",
    "- In addition, we'll also select columns corresponding to \"brand\" as features due to the reason mentioned in EDA part"
   ]
  },
  {
   "cell_type": "code",
   "execution_count": 56,
   "metadata": {},
   "outputs": [],
   "source": [
    "brand_cats = list(brand_ohe.categories_[0][1:])\n",
    "selected_cols = ['max_power', 'year', 'fuel'] + brand_cats\n",
    "\n",
    "X = df[selected_cols]\n",
    "y = df['selling_price']\n",
    "k = len(set(y))"
   ]
  },
  {
   "cell_type": "markdown",
   "metadata": {},
   "source": [
    "### Train test split"
   ]
  },
  {
   "cell_type": "code",
   "execution_count": 57,
   "metadata": {},
   "outputs": [],
   "source": [
    "from sklearn.model_selection import train_test_split\n",
    "\n",
    "X_train, X_test, y_train, y_test = train_test_split(X, y, test_size=0.2, random_state=42)"
   ]
  },
  {
   "cell_type": "markdown",
   "metadata": {},
   "source": [
    "### Find number of null values for each feature"
   ]
  },
  {
   "cell_type": "code",
   "execution_count": 58,
   "metadata": {},
   "outputs": [
    {
     "data": {
      "text/plain": [
       "max_power    165\n",
       "dtype: int64"
      ]
     },
     "execution_count": 58,
     "metadata": {},
     "output_type": "execute_result"
    }
   ],
   "source": [
    "null_train = X_train.isna().sum()\n",
    "null_train[null_train > 0]"
   ]
  },
  {
   "cell_type": "code",
   "execution_count": 59,
   "metadata": {},
   "outputs": [
    {
     "data": {
      "text/plain": [
       "max_power    43\n",
       "dtype: int64"
      ]
     },
     "execution_count": 59,
     "metadata": {},
     "output_type": "execute_result"
    }
   ],
   "source": [
    "null_test = X_test.isna().sum()\n",
    "null_test[null_test > 0]"
   ]
  },
  {
   "cell_type": "code",
   "execution_count": 60,
   "metadata": {},
   "outputs": [
    {
     "data": {
      "text/plain": [
       "0"
      ]
     },
     "execution_count": 60,
     "metadata": {},
     "output_type": "execute_result"
    }
   ],
   "source": [
    "y_train.isna().sum()"
   ]
  },
  {
   "cell_type": "code",
   "execution_count": 61,
   "metadata": {},
   "outputs": [
    {
     "data": {
      "text/plain": [
       "0"
      ]
     },
     "execution_count": 61,
     "metadata": {},
     "output_type": "execute_result"
    }
   ],
   "source": [
    "y_test.isna().sum()"
   ]
  },
  {
   "cell_type": "markdown",
   "metadata": {},
   "source": [
    "### Imputation for max_power"
   ]
  },
  {
   "cell_type": "markdown",
   "metadata": {},
   "source": [
    "Filling in missing values for max_power using either mean or median"
   ]
  },
  {
   "cell_type": "code",
   "execution_count": 62,
   "metadata": {},
   "outputs": [
    {
     "name": "stdout",
     "output_type": "stream",
     "text": [
      "Mean of max_power: 91.8197257033248\n",
      "Median of max_power: 82.4\n"
     ]
    },
    {
     "data": {
      "image/png": "[encoded data removed]",
      "text/plain": [
       "<Figure size 500x500 with 1 Axes>"
      ]
     },
     "metadata": {},
     "output_type": "display_data"
    }
   ],
   "source": [
    "# Let's inspect the distribution plot, mean and median of max_power again\n",
    "sns.displot(data=df, x='max_power')\n",
    "\n",
    "print(f\"Mean of max_power: {df['max_power'].mean()}\")\n",
    "print(f\"Median of max_power: {df['max_power'].median()}\")"
   ]
  },
  {
   "cell_type": "markdown",
   "metadata": {},
   "source": [
    "max_power is skewed so median would be a better choice compared to mean"
   ]
  },
  {
   "cell_type": "code",
   "execution_count": 63,
   "metadata": {},
   "outputs": [],
   "source": [
    "X_train['max_power'].fillna(X_train['max_power'].median(), inplace=True)\n",
    "X_test['max_power'].fillna(X_train['max_power'].median(), inplace=True)"
   ]
  },
  {
   "cell_type": "markdown",
   "metadata": {},
   "source": [
    "### Checking outliers"
   ]
  },
  {
   "cell_type": "code",
   "execution_count": 64,
   "metadata": {},
   "outputs": [
    {
     "data": {
      "image/png": "[encoded data removed]",
      "text/plain": [
       "<Figure size 2000x3000 with 2 Axes>"
      ]
     },
     "metadata": {},
     "output_type": "display_data"
    }
   ],
   "source": [
    "# Create a dictionary of columns.\n",
    "col_dict = {'max_power': 1,'year': 2}\n",
    "\n",
    "# Detect outliers in each variable using box plots.\n",
    "plt.figure(figsize=(20,30))\n",
    "\n",
    "for variable,i in col_dict.items():\n",
    "                     plt.subplot(5,4,i)\n",
    "                     plt.boxplot(X_train[variable])\n",
    "                     plt.title(variable)\n",
    "\n",
    "plt.show()"
   ]
  },
  {
   "cell_type": "code",
   "execution_count": 65,
   "metadata": {},
   "outputs": [],
   "source": [
    "def outlier_count(col, data = X_train):\n",
    "    \n",
    "    # calculate your 25% quatile and 75% quatile\n",
    "    q75, q25 = np.percentile(data[col], [75, 25])\n",
    "    \n",
    "    # calculate your inter quatile\n",
    "    iqr = q75 - q25\n",
    "    \n",
    "    # min_val and max_val\n",
    "    min_val = q25 - (iqr*1.5)\n",
    "    max_val = q75 + (iqr*1.5)\n",
    "    \n",
    "    # count number of outliers, which are the data that are less than min_val or more than max_val calculated above\n",
    "    outlier_count = len(np.where((data[col] > max_val) | (data[col] < min_val))[0])\n",
    "    \n",
    "    # calculate the percentage of the outliers\n",
    "    outlier_percent = round(outlier_count/len(data[col])*100, 2)\n",
    "    \n",
    "    if(outlier_count > 0):\n",
    "        print(\"\\n\"+15*'-' + col + 15*'-'+\"\\n\")\n",
    "        print('Number of outliers: {}'.format(outlier_count))\n",
    "        print('Percent of data that is outlier: {}%'.format(outlier_percent))"
   ]
  },
  {
   "cell_type": "code",
   "execution_count": 66,
   "metadata": {},
   "outputs": [
    {
     "name": "stdout",
     "output_type": "stream",
     "text": [
      "\n",
      "---------------max_power---------------\n",
      "\n",
      "Number of outliers: 459\n",
      "Percent of data that is outlier: 7.15%\n",
      "\n",
      "---------------year---------------\n",
      "\n",
      "Number of outliers: 63\n",
      "Percent of data that is outlier: 0.98%\n"
     ]
    }
   ],
   "source": [
    "for col in X_train[['max_power', 'year']]:\n",
    "    outlier_count(col)"
   ]
  },
  {
   "cell_type": "markdown",
   "metadata": {},
   "source": [
    "### Scaling"
   ]
  },
  {
   "cell_type": "markdown",
   "metadata": {},
   "source": [
    "As seen in the distribution plots above, all of our numerical features are skewed. Therefore, it is better to do normalization."
   ]
  },
  {
   "cell_type": "code",
   "execution_count": 67,
   "metadata": {},
   "outputs": [],
   "source": [
    "from sklearn.preprocessing import MinMaxScaler\n",
    "\n",
    "# select only features with numerical values not categorical\n",
    "num_cols = ['max_power', 'year']\n",
    "scaler = MinMaxScaler(feature_range = (0, 1))\n",
    "X_train[num_cols] = scaler.fit_transform(X_train[num_cols])\n",
    "X_test[num_cols]  = scaler.transform(X_test[num_cols])"
   ]
  },
  {
   "cell_type": "markdown",
   "metadata": {},
   "source": [
    "### Encode y_train"
   ]
  },
  {
   "cell_type": "code",
   "execution_count": 68,
   "metadata": {},
   "outputs": [],
   "source": [
    "Y_train_encoded = pd.get_dummies(y_train)"
   ]
  },
  {
   "cell_type": "code",
   "execution_count": 69,
   "metadata": {},
   "outputs": [],
   "source": [
    "# Convert all to numpy arrays\n",
    "X_train = X_train.to_numpy()\n",
    "X_test  = X_test.to_numpy()\n",
    "Y_train_encoded = Y_train_encoded.to_numpy()\n",
    "y_test  = y_test.to_numpy()"
   ]
  },
  {
   "cell_type": "code",
   "execution_count": 70,
   "metadata": {},
   "outputs": [
    {
     "name": "stdout",
     "output_type": "stream",
     "text": [
      "Shape of X_train:  (6422, 34)\n",
      "Shape of X_test:  (1606, 34)\n",
      "Shape of y_train:  (6422, 4)\n",
      "Shape of y_test:  (1606,)\n"
     ]
    }
   ],
   "source": [
    "# Let's check shapes of all X_train, X_test, Y_train_encoded, y_test\n",
    "print(\"Shape of X_train: \", X_train.shape)\n",
    "print(\"Shape of X_test: \", X_test.shape)\n",
    "print(\"Shape of y_train: \", Y_train_encoded.shape)\n",
    "print(\"Shape of y_test: \", y_test.shape)"
   ]
  },
  {
   "cell_type": "markdown",
   "metadata": {},
   "source": [
    "## 4. Modeling"
   ]
  },
  {
   "cell_type": "code",
   "execution_count": 71,
   "metadata": {},
   "outputs": [],
   "source": [
    "import time\n",
    "from sklearn.metrics import classification_report\n",
    "import mlflow"
   ]
  },
  {
   "cell_type": "code",
   "execution_count": 68,
   "metadata": {},
   "outputs": [
    {
     "name": "stderr",
     "output_type": "stream",
     "text": [
      "2023/09/20 11:11:57 INFO mlflow.tracking.fluent: Experiment with name 'st124026-a3' does not exist. Creating a new experiment.\n"
     ]
    },
    {
     "data": {
      "text/plain": [
       "<Experiment: artifact_location='mlflow-artifacts:/532683472037472001', creation_time=1695183117454, experiment_id='532683472037472001', last_update_time=1695183117454, lifecycle_stage='active', name='st124026-a3', tags={}>"
      ]
     },
     "execution_count": 68,
     "metadata": {},
     "output_type": "execute_result"
    }
   ],
   "source": [
    "mlflow.set_tracking_uri(\"https://mlflow.cs.ait.ac.th/\")\n",
    "mlflow.set_experiment(experiment_name=\"st124026-a3\")"
   ]
  },
  {
   "cell_type": "code",
   "execution_count": 69,
   "metadata": {},
   "outputs": [],
   "source": [
    "class LogisticRegression:\n",
    "    \n",
    "    def __init__(self, regularization, k, n, method, alpha=0.001, max_iter=5000):\n",
    "        self.regularization = regularization\n",
    "        self.k = k\n",
    "        self.n = n\n",
    "        self.alpha = alpha\n",
    "        self.max_iter = max_iter\n",
    "        self.method = method\n",
    "    \n",
    "    def fit(self, X, Y):\n",
    "        self.W = np.random.rand(self.n, self.k)\n",
    "        self.losses = []\n",
    "\n",
    "        params = {\n",
    "            \"reg\": type(self).__name__,\n",
    "            \"method\": self.method,\n",
    "            \"k\": self.k,\n",
    "            \"n\": self.n,\n",
    "            \"alpha\": self.alpha,\n",
    "            \"max_iter\": self.max_iter\n",
    "        }\n",
    "        mlflow.log_params(params=params)\n",
    "    \n",
    "        if self.method == \"batch\":\n",
    "            start_time = time.time()\n",
    "            for i in range(self.max_iter):\n",
    "                loss, grad =  self.gradient(X, Y)\n",
    "                self.losses.append(loss)\n",
    "                self.W = self.W - self.alpha * grad\n",
    "                if i % 500 == 0:\n",
    "                    print(f\"Loss at iteration {i}\", loss)\n",
    "                    mlflow.log_metric(key=\"train_loss\", value=loss, step=i)\n",
    "            print(f\"time taken: {time.time() - start_time}\")\n",
    "            \n",
    "        elif self.method == \"minibatch\":\n",
    "            start_time = time.time()\n",
    "            batch_size = int(0.3 * X.shape[0])\n",
    "            for i in range(self.max_iter):\n",
    "                ix = np.random.randint(0, X.shape[0]) #<----with replacement\n",
    "                batch_X = X[ix:ix+batch_size]\n",
    "                batch_Y = Y[ix:ix+batch_size]\n",
    "                loss, grad = self.gradient(batch_X, batch_Y)\n",
    "                self.losses.append(loss)\n",
    "                self.W = self.W - self.alpha * grad\n",
    "                if i % 500 == 0:\n",
    "                    print(f\"Loss at iteration {i}\", loss)\n",
    "                    mlflow.log_metric(key=\"train_loss\", value=loss, step=i)\n",
    "            print(f\"time taken: {time.time() - start_time}\")\n",
    "            \n",
    "        elif self.method == \"sto\":\n",
    "            start_time = time.time()\n",
    "            list_of_used_ix = []\n",
    "            for i in range(self.max_iter):\n",
    "                idx = np.random.randint(X.shape[0])\n",
    "                while i in list_of_used_ix:\n",
    "                    idx = np.random.randint(X.shape[0])\n",
    "                X_train = X[idx, :].reshape(1, -1)\n",
    "                Y_train = Y[idx]\n",
    "                loss, grad = self.gradient(X_train, Y_train)\n",
    "                self.losses.append(loss)\n",
    "                self.W = self.W - self.alpha * grad\n",
    "                \n",
    "                list_of_used_ix.append(i)\n",
    "                if len(list_of_used_ix) == X.shape[0]:\n",
    "                    list_of_used_ix = []\n",
    "                if i % 500 == 0:\n",
    "                    print(f\"Loss at iteration {i}\", loss)\n",
    "                    mlflow.log_metric(key=\"train_loss\", value=loss, step=i)\n",
    "            print(f\"time taken: {time.time() - start_time}\")\n",
    "        \n",
    "        else:\n",
    "            raise ValueError('Method must be one of the followings: \"batch\", \"minibatch\" or \"sto\".')\n",
    "        \n",
    "    def gradient(self, X, Y):\n",
    "        m = X.shape[0]\n",
    "        h = self.h_theta(X, self.W)\n",
    "        loss = - np.sum(Y*np.log(h)) / m\n",
    "        error = h - Y\n",
    "\n",
    "        if self.regularization:\n",
    "            grad = self.softmax_grad(X, error) + self.regularization.derivation(self.W)\n",
    "        else:\n",
    "            grad = self.softmax_grad(X, error)\n",
    "\n",
    "        return loss, grad\n",
    "\n",
    "    def softmax(self, theta_t_x):\n",
    "        return np.exp(theta_t_x) / np.sum(np.exp(theta_t_x), axis=1, keepdims=True)\n",
    "\n",
    "    def softmax_grad(self, X, error):\n",
    "        return  X.T @ error\n",
    "\n",
    "    def h_theta(self, X, W):\n",
    "        '''\n",
    "        Input:\n",
    "            X shape: (m, n)\n",
    "            w shape: (n, k)\n",
    "        Returns:\n",
    "            yhat shape: (m, k)\n",
    "        '''\n",
    "        return self.softmax(X @ W)\n",
    "    \n",
    "    def predict(self, X_test):\n",
    "        return np.argmax(self.h_theta(X_test, self.W), axis=1)\n",
    "    \n",
    "    def plot(self):\n",
    "        plt.plot(np.arange(len(self.losses)) , self.losses, label = \"Train Losses\")\n",
    "        plt.title(\"Losses\")\n",
    "        plt.xlabel(\"epoch\")\n",
    "        plt.ylabel(\"losses\")\n",
    "        plt.legend()\n",
    "\n",
    "    def accuracy(self, y_test, y_pred):\n",
    "        return np.count_nonzero(y_test==y_pred) / len(y_test)\n",
    "\n",
    "    def precision(self, y_test, y_pred, c=0):\n",
    "        tp = np.nansum(np.logical_and(y_test == c, y_pred == c))\n",
    "        fp = np.nansum(np.logical_and(y_test != c, y_pred == c))\n",
    "\n",
    "        if tp + fp == 0:\n",
    "            return 0\n",
    "        else:\n",
    "            return tp / (tp + fp)\n",
    "    \n",
    "    def recall(self, y_test, y_pred, c=0):\n",
    "        tp = np.nansum(np.logical_and(y_test == c, y_pred == c))\n",
    "        fn = np.nansum(np.logical_and(y_test == c, y_pred != c))\n",
    "        \n",
    "        if tp + fn == 0:\n",
    "            return 0\n",
    "        else:\n",
    "            return tp / (tp + fn)\n",
    "    \n",
    "    def f1_score(self, y_test, y_pred, c=0):\n",
    "        precision = self.precision(y_test, y_pred, c)\n",
    "        recall = self.recall(y_test, y_pred, c)\n",
    "\n",
    "        if precision + recall == 0:\n",
    "            return 0\n",
    "        else:\n",
    "            return 2 * precision * recall / (precision + recall)\n",
    "    \n",
    "    def macro_precision(self, y_test, y_pred):\n",
    "        precisions = [self.precision(y_test, y_pred, c) for c in range(self.k)]\n",
    "        return np.sum(precisions) / self.k\n",
    "    \n",
    "    def macro_recall(self, y_test, y_pred):\n",
    "        recalls = [self.recall(y_test, y_pred, c) for c in range(self.k)]\n",
    "        return np.sum(recalls) / self.k\n",
    "    \n",
    "    def macro_f1(self, y_test, y_pred):\n",
    "        f1s = [self.f1_score(y_test, y_pred, c) for c in range(self.k)]\n",
    "        return np.sum(f1s) / self.k\n",
    "    \n",
    "    def weighted_precision(self, y_test, y_pred):\n",
    "        precisions = [np.count_nonzero(y_test == c)  / len(y_test) * self.precision(y_test, y_pred, c) for c in range(self.k)]\n",
    "        return np.sum(precisions)\n",
    "    \n",
    "    def weighted_recall(self, y_test, y_pred):\n",
    "        recalls = [np.count_nonzero(y_test == c)  / len(y_test) * self.recall(y_test, y_pred, c) for c in range(self.k)]\n",
    "        return np.sum(recalls)\n",
    "    \n",
    "    def weighted_f1(self, y_test, y_pred):\n",
    "        f1s = [np.count_nonzero(y_test == c)  / len(y_test) * self.f1_score(y_test, y_pred, c) for c in range(self.k)]\n",
    "        return np.sum(f1s)\n",
    "    \n",
    "    def classification_report(self, y_test, y_pred):\n",
    "        cols = [\"precision\", \"recall\", \"f1-score\"]\n",
    "        idx = list(range(self.k))+[\"accuracy\", \"macro\", \"weighted\"]\n",
    "\n",
    "        report = [[self.precision(y_test, y_pred, c),\n",
    "                self.recall(y_test, y_pred, c),\n",
    "                self.f1_score(y_test, y_pred, c)] for c in range(self.k)]\n",
    "\n",
    "        report.append([\"\", \"\", self.accuracy(y_test, y_pred)])\n",
    "\n",
    "        report.append([self.macro_precision(y_test, y_pred),\n",
    "                    self.macro_recall(y_test, y_pred),\n",
    "                    self.macro_f1(y_test, y_pred)])\n",
    "\n",
    "        report.append([self.weighted_precision(y_test, y_pred),\n",
    "                    self.weighted_recall(y_test, y_pred),\n",
    "                    self.weighted_f1(y_test, y_pred)])\n",
    "        \n",
    "        return pd.DataFrame(report, index=idx, columns=cols)"
   ]
  },
  {
   "cell_type": "code",
   "execution_count": 70,
   "metadata": {},
   "outputs": [],
   "source": [
    "class RidgePenalty:\n",
    "    \n",
    "    def __init__(self, l):\n",
    "        self.l = l\n",
    "        \n",
    "    def __call__(self, theta): #__call__ allows us to call class as method\n",
    "        return self.l * np.sum(np.square(theta))\n",
    "        \n",
    "    def derivation(self, theta):\n",
    "        return self.l * 2 * theta\n",
    "    \n",
    "class Ridge(LogisticRegression):\n",
    "    \n",
    "    def __init__(self, l, k, n, method, alpha=0.001, max_iter=5000):\n",
    "        self.regularization = RidgePenalty(l)\n",
    "        super().__init__(self.regularization, k, n, method, alpha, max_iter)\n",
    "\n",
    "class Normal(LogisticRegression):\n",
    "    \n",
    "    def __init__(self, k, n, method, alpha=0.001, max_iter=5000):\n",
    "        self.regularization = None\n",
    "        super().__init__(self.regularization, k, n, method, alpha, max_iter)"
   ]
  },
  {
   "cell_type": "code",
   "execution_count": 71,
   "metadata": {},
   "outputs": [],
   "source": [
    "#helper function for looping classnames\n",
    "import sys\n",
    "\n",
    "def str_to_class(classname):\n",
    "    return getattr(sys.modules[__name__], classname)"
   ]
  },
  {
   "cell_type": "code",
   "execution_count": 81,
   "metadata": {},
   "outputs": [
    {
     "name": "stdout",
     "output_type": "stream",
     "text": [
      "Loss at iteration 0 1.3541649019096569\n",
      "Loss at iteration 500 1.0599695889026577\n",
      "Loss at iteration 1000 1.0210454306801904\n",
      "Loss at iteration 1500 1.0144443427895198\n",
      "Loss at iteration 2000 0.9786903647440516\n",
      "Loss at iteration 2500 0.9767713441933445\n",
      "Loss at iteration 3000 0.969620906045465\n",
      "Loss at iteration 3500 0.9745482084375039\n",
      "Loss at iteration 4000 0.9332697601152018\n",
      "Loss at iteration 4500 0.9425414621339269\n",
      "Loss at iteration 5000 0.9072965727005337\n",
      "Loss at iteration 5500 0.9330123657658443\n",
      "Loss at iteration 6000 0.9147802642404519\n",
      "Loss at iteration 6500 0.9276157527683921\n",
      "Loss at iteration 7000 0.924866599485548\n",
      "Loss at iteration 7500 0.9038170815765758\n",
      "Loss at iteration 8000 0.9038559903367395\n",
      "Loss at iteration 8500 0.9128079765151446\n",
      "Loss at iteration 9000 0.8999453059580239\n",
      "Loss at iteration 9500 0.8997307159030724\n",
      "time taken: 19.87123417854309\n",
      "=========Sklearn's Classification report=======\n",
      "              precision    recall  f1-score   support\n",
      "\n",
      "           0       0.73      0.82      0.78       411\n",
      "           1       0.60      0.43      0.50       456\n",
      "           2       0.48      0.51      0.49       352\n",
      "           3       0.66      0.74      0.70       387\n",
      "\n",
      "    accuracy                           0.62      1606\n",
      "   macro avg       0.62      0.63      0.62      1606\n",
      "weighted avg       0.62      0.62      0.62      1606\n",
      "\n"
     ]
    }
   ],
   "source": [
    "test_model = Ridge(0.1, k, X_train.shape[1], \"minibatch\", max_iter=10000)\n",
    "test_model.fit(X_train, Y_train_encoded)\n",
    "yhat = test_model.predict(X_test)\n",
    "print(\"=========Sklearn's Classification report=======\")\n",
    "print(classification_report(y_test, yhat))"
   ]
  },
  {
   "cell_type": "code",
   "execution_count": 82,
   "metadata": {},
   "outputs": [
    {
     "name": "stdout",
     "output_type": "stream",
     "text": [
      "=========My Implemented Classification report=======\n",
      "         precision    recall  f1-score\n",
      "0         0.734783  0.822384  0.776119\n",
      "1          0.59697  0.432018  0.501272\n",
      "2         0.476316  0.514205  0.494536\n",
      "3         0.655963  0.739018  0.695018\n",
      "accuracy                      0.623910\n",
      "macro     0.616008  0.626906  0.616736\n",
      "weighted  0.620009   0.62391  0.616821\n"
     ]
    }
   ],
   "source": [
    "print(\"=========My Implemented Classification report=======\")\n",
    "print(test_model.classification_report(y_test, yhat))"
   ]
  },
  {
   "cell_type": "code",
   "execution_count": 83,
   "metadata": {},
   "outputs": [
    {
     "data": {
      "image/png": "[encoded data removed]",
      "text/plain": [
       "<Figure size 640x480 with 1 Axes>"
      ]
     },
     "metadata": {},
     "output_type": "display_data"
    }
   ],
   "source": [
    "test_model.plot()"
   ]
  },
  {
   "cell_type": "code",
   "execution_count": 72,
   "metadata": {},
   "outputs": [
    {
     "name": "stdout",
     "output_type": "stream",
     "text": [
      "==============================\n",
      "Normal batch\n",
      "alpha: 0.01\n",
      "==============================\n",
      "Loss at iteration 0 1.3710972897139146\n",
      "Loss at iteration 500 6.2657791857767196\n",
      "Loss at iteration 1000 7.173649768352782\n",
      "Loss at iteration 1500 11.439305102876247\n",
      "Loss at iteration 2000 7.633938257355167\n",
      "Loss at iteration 2500 9.64720501307863\n",
      "Loss at iteration 3000 7.005097799025214\n",
      "Loss at iteration 3500 9.927124765990445\n",
      "Loss at iteration 4000 3.7415321600298608\n",
      "Loss at iteration 4500 3.925255321662986\n",
      "Loss at iteration 5000 11.703343857482864\n",
      "Loss at iteration 5500 8.236789214519431\n",
      "Loss at iteration 6000 6.4814043836006405\n",
      "Loss at iteration 6500 5.837000916976266\n",
      "Loss at iteration 7000 6.3948129883369065\n",
      "Loss at iteration 7500 4.404389063399644\n",
      "Loss at iteration 8000 6.441437108311432\n",
      "Loss at iteration 8500 7.16716721852267\n",
      "Loss at iteration 9000 4.187796711380554\n",
      "Loss at iteration 9500 3.515376834825595\n",
      "time taken: 39.99203133583069\n",
      "=========Sklearn Classification report=======\n",
      "              precision    recall  f1-score   support\n",
      "\n",
      "           0       0.94      0.55      0.69       411\n",
      "           1       0.45      0.21      0.29       456\n",
      "           2       0.32      0.95      0.48       352\n",
      "           3       0.96      0.29      0.44       387\n",
      "\n",
      "    accuracy                           0.48      1606\n",
      "   macro avg       0.67      0.50      0.47      1606\n",
      "weighted avg       0.67      0.48      0.47      1606\n",
      "\n",
      "\n",
      "\n",
      "==============================\n",
      "Normal batch\n",
      "alpha: 0.001\n",
      "==============================\n",
      "Loss at iteration 0 1.4304137331920803\n",
      "Loss at iteration 500 0.9685026342537125\n",
      "Loss at iteration 1000 0.8934101573765526\n",
      "Loss at iteration 1500 0.8467327477986382\n",
      "Loss at iteration 2000 0.8151708534554272\n",
      "Loss at iteration 2500 0.792501322238616\n",
      "Loss at iteration 3000 0.774909939111265\n",
      "Loss at iteration 3500 0.7607705954029653\n",
      "Loss at iteration 4000 0.7491089284370932\n",
      "Loss at iteration 4500 0.739295809609898\n",
      "Loss at iteration 5000 0.730905406790069\n",
      "Loss at iteration 5500 0.7236379643563017\n",
      "Loss at iteration 6000 0.7172752790772906\n",
      "Loss at iteration 6500 0.711653961586772\n",
      "Loss at iteration 7000 0.7066487442012027\n",
      "Loss at iteration 7500 0.7021616727137583\n",
      "Loss at iteration 8000 0.6981148690468211\n",
      "Loss at iteration 8500 0.6944455368817292\n",
      "Loss at iteration 9000 0.6911024235921988\n",
      "Loss at iteration 9500 0.6880432569516375\n",
      "time taken: 31.393688917160034\n",
      "=========Sklearn Classification report=======\n",
      "              precision    recall  f1-score   support\n",
      "\n",
      "           0       0.84      0.84      0.84       411\n",
      "           1       0.68      0.62      0.64       456\n",
      "           2       0.56      0.60      0.58       352\n",
      "           3       0.80      0.83      0.82       387\n",
      "\n",
      "    accuracy                           0.72      1606\n",
      "   macro avg       0.72      0.72      0.72      1606\n",
      "weighted avg       0.72      0.72      0.72      1606\n",
      "\n",
      "\n",
      "\n",
      "==============================\n",
      "Normal batch\n",
      "alpha: 0.0001\n",
      "==============================\n",
      "Loss at iteration 0 1.5601774412205456\n",
      "Loss at iteration 500 1.1149447820298901\n",
      "Loss at iteration 1000 1.0832943021042496\n",
      "Loss at iteration 1500 1.061610665423015\n",
      "Loss at iteration 2000 1.0434813372986358\n",
      "Loss at iteration 2500 1.0274425562569554\n",
      "Loss at iteration 3000 1.0129406730150157\n",
      "Loss at iteration 3500 0.9996867465980482\n",
      "Loss at iteration 4000 0.9874929694943054\n",
      "Loss at iteration 4500 0.976220300810095\n",
      "Loss at iteration 5000 0.9657584067331713\n",
      "Loss at iteration 5500 0.9560163892249222\n",
      "Loss at iteration 6000 0.9469176657066947\n",
      "Loss at iteration 6500 0.9383967416983189\n",
      "Loss at iteration 7000 0.9303969984716112\n",
      "Loss at iteration 7500 0.922869093140585\n",
      "Loss at iteration 8000 0.915769756597329\n",
      "Loss at iteration 8500 0.9090608618842991\n",
      "Loss at iteration 9000 0.9027086821875185\n",
      "Loss at iteration 9500 0.8966832854056878\n",
      "time taken: 26.461613655090332\n",
      "=========Sklearn Classification report=======\n",
      "              precision    recall  f1-score   support\n",
      "\n",
      "           0       0.73      0.84      0.78       411\n",
      "           1       0.62      0.40      0.48       456\n",
      "           2       0.48      0.56      0.52       352\n",
      "           3       0.66      0.73      0.70       387\n",
      "\n",
      "    accuracy                           0.63      1606\n",
      "   macro avg       0.62      0.63      0.62      1606\n",
      "weighted avg       0.63      0.63      0.62      1606\n",
      "\n",
      "\n",
      "\n",
      "==============================\n",
      "Normal minibatch\n",
      "alpha: 0.01\n",
      "==============================\n",
      "Loss at iteration 0 1.4599507657026014\n",
      "Loss at iteration 500 2.6629119143323186\n",
      "Loss at iteration 1000 0.9431621894914336\n",
      "Loss at iteration 1500 2.9659503048862077\n",
      "Loss at iteration 2000 1.4593764540284093\n",
      "Loss at iteration 2500 0.819196796043036\n",
      "Loss at iteration 3000 0.8951324644869645\n",
      "Loss at iteration 3500 1.2394087235066928\n",
      "Loss at iteration 4000 1.2673525419293556\n",
      "Loss at iteration 4500 1.4642458700529317\n",
      "Loss at iteration 5000 2.43340684552132\n",
      "Loss at iteration 5500 2.762306892768823\n",
      "Loss at iteration 6000 1.8522219386405205\n",
      "Loss at iteration 6500 1.277647270651437\n",
      "Loss at iteration 7000 1.80642080100406\n",
      "Loss at iteration 7500 2.1577177625714037\n",
      "Loss at iteration 8000 1.8724928909039158\n",
      "Loss at iteration 8500 1.5833896097019138\n",
      "Loss at iteration 9000 0.8968681085573013\n",
      "Loss at iteration 9500 2.241074204668554\n",
      "time taken: 12.451869487762451\n",
      "=========Sklearn Classification report=======\n",
      "              precision    recall  f1-score   support\n",
      "\n",
      "           0       0.80      0.87      0.83       411\n",
      "           1       0.59      0.71      0.65       456\n",
      "           2       0.00      0.00      0.00       352\n",
      "           3       0.61      0.97      0.75       387\n",
      "\n",
      "    accuracy                           0.66      1606\n",
      "   macro avg       0.50      0.64      0.56      1606\n",
      "weighted avg       0.52      0.66      0.58      1606\n",
      "\n",
      "\n",
      "\n",
      "==============================\n",
      "Normal minibatch\n",
      "alpha: 0.001\n",
      "==============================\n",
      "Loss at iteration 0 1.565244351665302\n",
      "Loss at iteration 500 1.0683719810925354\n",
      "Loss at iteration 1000 1.0338146977405864\n",
      "Loss at iteration 1500 1.0045710945995439\n",
      "Loss at iteration 2000 0.9584541645103869\n",
      "Loss at iteration 2500 0.9341572138949343\n",
      "Loss at iteration 3000 0.9367834268176286\n",
      "Loss at iteration 3500 0.9026946948396145\n",
      "Loss at iteration 4000 0.8818972622386765\n",
      "Loss at iteration 4500 0.8720757075736457\n",
      "Loss at iteration 5000 0.8565817680204705\n",
      "Loss at iteration 5500 0.8491127413748605\n",
      "Loss at iteration 6000 0.8429284588700617\n",
      "Loss at iteration 6500 0.8278075480307281\n",
      "Loss at iteration 7000 0.8217931206772119\n",
      "Loss at iteration 7500 0.8223978777719787\n",
      "Loss at iteration 8000 0.8024899013496513\n",
      "Loss at iteration 8500 0.8023363670323952\n",
      "Loss at iteration 9000 0.806236422842899\n",
      "Loss at iteration 9500 0.8132739061134684\n",
      "time taken: 11.795922756195068\n",
      "=========Sklearn Classification report=======\n",
      "              precision    recall  f1-score   support\n",
      "\n",
      "           0       0.80      0.84      0.82       411\n",
      "           1       0.66      0.56      0.61       456\n",
      "           2       0.51      0.57      0.54       352\n",
      "           3       0.71      0.73      0.72       387\n",
      "\n",
      "    accuracy                           0.67      1606\n",
      "   macro avg       0.67      0.67      0.67      1606\n",
      "weighted avg       0.67      0.67      0.67      1606\n",
      "\n",
      "\n",
      "\n",
      "==============================\n",
      "Normal minibatch\n",
      "alpha: 0.0001\n",
      "==============================\n",
      "Loss at iteration 0 1.525818458566813\n",
      "Loss at iteration 500 1.1946241509829392\n",
      "Loss at iteration 1000 1.15173595672363\n",
      "Loss at iteration 1500 1.1393836800008978\n",
      "Loss at iteration 2000 1.1265665594652574\n",
      "Loss at iteration 2500 1.1103235341734046\n",
      "Loss at iteration 3000 1.0798899715349846\n",
      "Loss at iteration 3500 1.076827906056592\n",
      "Loss at iteration 4000 1.0963252121758138\n",
      "Loss at iteration 4500 1.0889229908088696\n",
      "Loss at iteration 5000 1.0905254621332061\n",
      "Loss at iteration 5500 1.084047543816215\n",
      "Loss at iteration 6000 1.0809136302254692\n",
      "Loss at iteration 6500 1.0520967229261418\n",
      "Loss at iteration 7000 1.0376389159175101\n",
      "Loss at iteration 7500 1.0582544253115158\n",
      "Loss at iteration 8000 1.0502757927525015\n",
      "Loss at iteration 8500 1.0327948516436016\n",
      "Loss at iteration 9000 1.0215683269194944\n",
      "Loss at iteration 9500 1.0221139390013305\n",
      "time taken: 14.923490285873413\n",
      "=========Sklearn Classification report=======\n",
      "              precision    recall  f1-score   support\n",
      "\n",
      "           0       0.61      0.74      0.67       411\n",
      "           1       0.49      0.29      0.37       456\n",
      "           2       0.33      0.40      0.36       352\n",
      "           3       0.61      0.65      0.63       387\n",
      "\n",
      "    accuracy                           0.52      1606\n",
      "   macro avg       0.51      0.52      0.51      1606\n",
      "weighted avg       0.52      0.52      0.51      1606\n",
      "\n",
      "\n",
      "\n",
      "==============================\n",
      "Normal sto\n",
      "alpha: 0.01\n",
      "==============================\n",
      "Loss at iteration 0 2.011491970662808\n",
      "Loss at iteration 500 1.2074930476511936\n",
      "Loss at iteration 1000 1.331700764684655\n",
      "Loss at iteration 1500 0.9811275962609999\n",
      "Loss at iteration 2000 1.7858657855584394\n",
      "Loss at iteration 2500 1.26573738784423\n",
      "Loss at iteration 3000 1.3127074078338334\n",
      "Loss at iteration 3500 1.417088993934142\n",
      "Loss at iteration 4000 1.0808244287234268\n",
      "Loss at iteration 4500 0.8510491688901055\n",
      "Loss at iteration 5000 1.1360782949529484\n",
      "Loss at iteration 5500 1.1083474447403134\n",
      "Loss at iteration 6000 1.2145859862878932\n",
      "Loss at iteration 6500 1.584153844599733\n",
      "Loss at iteration 7000 1.0654051162843081\n",
      "Loss at iteration 7500 1.8457113962640554\n",
      "Loss at iteration 8000 1.1671315121192076\n",
      "Loss at iteration 8500 0.7569947302197979\n",
      "Loss at iteration 9000 1.1388987690611634\n",
      "Loss at iteration 9500 0.6881107442724582\n",
      "time taken: 10.20136022567749\n",
      "=========Sklearn Classification report=======\n",
      "              precision    recall  f1-score   support\n",
      "\n",
      "           0       0.54      0.60      0.57       411\n",
      "           1       0.45      0.24      0.31       456\n",
      "           2       0.30      0.22      0.25       352\n",
      "           3       0.43      0.72      0.54       387\n",
      "\n",
      "    accuracy                           0.44      1606\n",
      "   macro avg       0.43      0.45      0.42      1606\n",
      "weighted avg       0.44      0.44      0.42      1606\n",
      "\n",
      "\n",
      "\n",
      "==============================\n",
      "Normal sto\n",
      "alpha: 0.001\n",
      "==============================\n",
      "Loss at iteration 0 1.5174271665314236\n",
      "Loss at iteration 500 1.352722573937881\n",
      "Loss at iteration 1000 1.4795761770556979\n",
      "Loss at iteration 1500 1.5054555477574265\n",
      "Loss at iteration 2000 1.4384847766420121\n",
      "Loss at iteration 2500 1.9251098003926548\n",
      "Loss at iteration 3000 1.1048901863689593\n",
      "Loss at iteration 3500 1.1080890570346762\n",
      "Loss at iteration 4000 1.451436921501529\n",
      "Loss at iteration 4500 1.4060705149865036\n",
      "Loss at iteration 5000 0.9977148628946358\n",
      "Loss at iteration 5500 1.4089835507715476\n",
      "Loss at iteration 6000 1.771154361416343\n",
      "Loss at iteration 6500 1.4963333260866725\n",
      "Loss at iteration 7000 1.8058813538751601\n",
      "Loss at iteration 7500 1.213231066376882\n",
      "Loss at iteration 8000 1.1389669075771292\n",
      "Loss at iteration 8500 0.9612242997714662\n",
      "Loss at iteration 9000 1.8386747417861313\n",
      "Loss at iteration 9500 1.2979553858525703\n",
      "time taken: 10.54387879371643\n",
      "=========Sklearn Classification report=======\n",
      "              precision    recall  f1-score   support\n",
      "\n",
      "           0       0.39      0.39      0.39       411\n",
      "           1       0.23      0.15      0.18       456\n",
      "           2       0.15      0.08      0.11       352\n",
      "           3       0.36      0.67      0.47       387\n",
      "\n",
      "    accuracy                           0.32      1606\n",
      "   macro avg       0.29      0.32      0.29      1606\n",
      "weighted avg       0.29      0.32      0.29      1606\n",
      "\n",
      "\n",
      "\n",
      "==============================\n",
      "Normal sto\n",
      "alpha: 0.0001\n",
      "==============================\n",
      "Loss at iteration 0 0.9994423320474608\n",
      "Loss at iteration 500 0.8589198472625796\n",
      "Loss at iteration 1000 1.2988408236133873\n",
      "Loss at iteration 1500 1.8184978486309047\n",
      "Loss at iteration 2000 1.0129848491680598\n",
      "Loss at iteration 2500 1.3327900740912415\n",
      "Loss at iteration 3000 1.5659147193451304\n",
      "Loss at iteration 3500 1.5471164315814958\n",
      "Loss at iteration 4000 1.023400918646377\n",
      "Loss at iteration 4500 0.8229311759828503\n",
      "Loss at iteration 5000 1.3018079596600476\n",
      "Loss at iteration 5500 1.8541462221150393\n",
      "Loss at iteration 6000 1.3516077918527831\n",
      "Loss at iteration 6500 1.578557256104295\n",
      "Loss at iteration 7000 1.5806313447907268\n",
      "Loss at iteration 7500 1.2923723090007913\n",
      "Loss at iteration 8000 1.260175745384656\n",
      "Loss at iteration 8500 1.1065970839814179\n",
      "Loss at iteration 9000 1.0554587830642828\n",
      "Loss at iteration 9500 1.05330634014723\n",
      "time taken: 11.47965145111084\n",
      "=========Sklearn Classification report=======\n",
      "              precision    recall  f1-score   support\n",
      "\n",
      "           0       0.20      0.01      0.02       411\n",
      "           1       0.39      0.18      0.25       456\n",
      "           2       0.18      0.35      0.23       352\n",
      "           3       0.33      0.57      0.41       387\n",
      "\n",
      "    accuracy                           0.27      1606\n",
      "   macro avg       0.27      0.28      0.23      1606\n",
      "weighted avg       0.28      0.27      0.23      1606\n",
      "\n",
      "\n",
      "\n",
      "==============================\n",
      "Ridge batch\n",
      "alpha: 0.01\n",
      "==============================\n",
      "Loss at iteration 0 1.389893407143806\n",
      "Loss at iteration 500 14.13173395473579\n",
      "Loss at iteration 1000 5.172313501330339\n",
      "Loss at iteration 1500 11.712325027957261\n",
      "Loss at iteration 2000 7.105574953035299\n",
      "Loss at iteration 2500 17.55495082629222\n",
      "Loss at iteration 3000 18.303386847335155\n",
      "Loss at iteration 3500 4.477759512348047\n",
      "Loss at iteration 4000 5.116371774210082\n",
      "Loss at iteration 4500 11.767536700708861\n",
      "Loss at iteration 5000 22.823158039699162\n",
      "Loss at iteration 5500 8.161152079396182\n",
      "Loss at iteration 6000 3.217391759221092\n",
      "Loss at iteration 6500 11.529002443472352\n",
      "Loss at iteration 7000 10.900110870435359\n",
      "Loss at iteration 7500 15.160381928724641\n",
      "Loss at iteration 8000 16.06350686501953\n",
      "Loss at iteration 8500 12.192249679347315\n",
      "Loss at iteration 9000 8.747352421139972\n",
      "Loss at iteration 9500 14.47633474365905\n",
      "time taken: 34.710954427719116\n",
      "=========Sklearn Classification report=======\n",
      "              precision    recall  f1-score   support\n",
      "\n",
      "           0       1.00      0.02      0.03       411\n",
      "           1       0.31      1.00      0.47       456\n",
      "           2       0.00      0.00      0.00       352\n",
      "           3       0.95      0.28      0.43       387\n",
      "\n",
      "    accuracy                           0.35      1606\n",
      "   macro avg       0.56      0.32      0.23      1606\n",
      "weighted avg       0.57      0.35      0.24      1606\n",
      "\n",
      "\n",
      "\n",
      "==============================\n",
      "Ridge batch\n",
      "alpha: 0.001\n",
      "==============================\n",
      "Loss at iteration 0 1.4526524510071326\n",
      "Loss at iteration 500 0.9748074801507746\n",
      "Loss at iteration 1000 0.9083109759254798\n",
      "Loss at iteration 1500 0.8701688903719765\n",
      "Loss at iteration 2000 0.8455797348384854\n",
      "Loss at iteration 2500 0.828950656430522\n",
      "Loss at iteration 3000 0.8174785387681804\n",
      "Loss at iteration 3500 0.8091036963457875\n",
      "Loss at iteration 4000 0.8027972620443063\n",
      "Loss at iteration 4500 0.7979680364174951\n",
      "Loss at iteration 5000 0.794222958269433\n",
      "Loss at iteration 5500 0.7912901143250014\n",
      "Loss at iteration 6000 0.7889756140448715\n",
      "Loss at iteration 6500 0.7871378181302601\n",
      "Loss at iteration 7000 0.7856712328553913\n",
      "Loss at iteration 7500 0.7844960488248912\n",
      "Loss at iteration 8000 0.7835511176253623\n",
      "Loss at iteration 8500 0.7827891015504744\n",
      "Loss at iteration 9000 0.7821730422003353\n",
      "Loss at iteration 9500 0.7816738821896658\n",
      "time taken: 38.63771438598633\n",
      "=========Sklearn Classification report=======\n",
      "              precision    recall  f1-score   support\n",
      "\n",
      "           0       0.81      0.85      0.83       411\n",
      "           1       0.67      0.56      0.61       456\n",
      "           2       0.52      0.56      0.54       352\n",
      "           3       0.72      0.76      0.74       387\n",
      "\n",
      "    accuracy                           0.68      1606\n",
      "   macro avg       0.68      0.68      0.68      1606\n",
      "weighted avg       0.68      0.68      0.68      1606\n",
      "\n",
      "\n",
      "\n",
      "==============================\n",
      "Ridge batch\n",
      "alpha: 0.0001\n",
      "==============================\n",
      "Loss at iteration 0 1.3910249109112056\n",
      "Loss at iteration 500 1.1140675559861017\n",
      "Loss at iteration 1000 1.0824195865684758\n",
      "Loss at iteration 1500 1.0612909900676655\n",
      "Loss at iteration 2000 1.0438563069845497\n",
      "Loss at iteration 2500 1.0285880440032156\n",
      "Loss at iteration 3000 1.0149063266148748\n",
      "Loss at iteration 3500 1.002505196236683\n",
      "Loss at iteration 4000 0.991185050953382\n",
      "Loss at iteration 4500 0.9807986483506421\n",
      "Loss at iteration 5000 0.971229839620539\n",
      "Loss at iteration 5500 0.9623834846251027\n",
      "Loss at iteration 6000 0.9541798431957312\n",
      "Loss at iteration 6500 0.946551060330493\n",
      "Loss at iteration 7000 0.9394387713575192\n",
      "Loss at iteration 7500 0.9327923711745556\n",
      "Loss at iteration 8000 0.9265677084602103\n",
      "Loss at iteration 8500 0.9207260677945978\n",
      "Loss at iteration 9000 0.9152333556683206\n",
      "Loss at iteration 9500 0.910059436287928\n",
      "time taken: 37.07505679130554\n",
      "=========Sklearn Classification report=======\n",
      "              precision    recall  f1-score   support\n",
      "\n",
      "           0       0.73      0.84      0.78       411\n",
      "           1       0.62      0.40      0.49       456\n",
      "           2       0.47      0.57      0.52       352\n",
      "           3       0.65      0.71      0.68       387\n",
      "\n",
      "    accuracy                           0.62      1606\n",
      "   macro avg       0.62      0.63      0.61      1606\n",
      "weighted avg       0.62      0.62      0.61      1606\n",
      "\n",
      "\n",
      "\n",
      "==============================\n",
      "Ridge minibatch\n",
      "alpha: 0.01\n",
      "==============================\n",
      "Loss at iteration 0 1.4589441444669873\n",
      "Loss at iteration 500 2.1822819703952776\n",
      "Loss at iteration 1000 3.3520765848682266\n",
      "Loss at iteration 1500 4.217750265831228\n",
      "Loss at iteration 2000 2.056600034939805\n",
      "Loss at iteration 2500 2.122973201604947\n",
      "Loss at iteration 3000 3.64218966922141\n",
      "Loss at iteration 3500 1.9539245935148357\n",
      "Loss at iteration 4000 2.7656732522572085\n",
      "Loss at iteration 4500 2.977293675351761\n",
      "Loss at iteration 5000 1.8190660713197473\n",
      "Loss at iteration 5500 2.180281003108129\n",
      "Loss at iteration 6000 2.112589692739859\n",
      "Loss at iteration 6500 2.111289812656247\n",
      "Loss at iteration 7000 1.7815538202017134\n",
      "Loss at iteration 7500 1.4163008995584847\n",
      "Loss at iteration 8000 3.807265211458702\n",
      "Loss at iteration 8500 2.313679753609462\n",
      "Loss at iteration 9000 2.934264658708223\n",
      "Loss at iteration 9500 3.177139964113284\n",
      "time taken: 27.62713098526001\n",
      "=========Sklearn Classification report=======\n",
      "              precision    recall  f1-score   support\n",
      "\n",
      "           0       1.00      0.09      0.17       411\n",
      "           1       0.60      0.03      0.06       456\n",
      "           2       0.24      1.00      0.38       352\n",
      "           3       1.00      0.17      0.28       387\n",
      "\n",
      "    accuracy                           0.29      1606\n",
      "   macro avg       0.71      0.32      0.22      1606\n",
      "weighted avg       0.72      0.29      0.21      1606\n",
      "\n",
      "\n",
      "\n",
      "==============================\n",
      "Ridge minibatch\n",
      "alpha: 0.001\n",
      "==============================\n",
      "Loss at iteration 0 1.4054330376143696\n",
      "Loss at iteration 500 1.0847528269823241\n",
      "Loss at iteration 1000 1.02301033258711\n",
      "Loss at iteration 1500 0.9989130528730957\n",
      "Loss at iteration 2000 0.9799847873057216\n",
      "Loss at iteration 2500 0.9644167035512711\n",
      "Loss at iteration 3000 0.9727477945107752\n",
      "Loss at iteration 3500 0.9436769774060073\n",
      "Loss at iteration 4000 0.933627827797875\n",
      "Loss at iteration 4500 0.9268125452768567\n",
      "Loss at iteration 5000 0.9397344479093965\n",
      "Loss at iteration 5500 0.935081668005999\n",
      "Loss at iteration 6000 0.9142262762272155\n",
      "Loss at iteration 6500 0.914074308515572\n",
      "Loss at iteration 7000 0.9116269140436282\n",
      "Loss at iteration 7500 0.92171597605564\n",
      "Loss at iteration 8000 0.8967888624487084\n",
      "Loss at iteration 8500 0.9004514387003283\n",
      "Loss at iteration 9000 0.9039326041276099\n",
      "Loss at iteration 9500 0.8986932506128162\n",
      "time taken: 21.10345983505249\n",
      "=========Sklearn Classification report=======\n",
      "              precision    recall  f1-score   support\n",
      "\n",
      "           0       0.72      0.83      0.77       411\n",
      "           1       0.60      0.34      0.43       456\n",
      "           2       0.45      0.58      0.51       352\n",
      "           3       0.66      0.73      0.70       387\n",
      "\n",
      "    accuracy                           0.61      1606\n",
      "   macro avg       0.61      0.62      0.60      1606\n",
      "weighted avg       0.61      0.61      0.60      1606\n",
      "\n",
      "\n",
      "\n",
      "==============================\n",
      "Ridge minibatch\n",
      "alpha: 0.0001\n",
      "==============================\n",
      "Loss at iteration 0 1.408838922665133\n",
      "Loss at iteration 500 1.1573841528634756\n",
      "Loss at iteration 1000 1.1307526001732302\n",
      "Loss at iteration 1500 1.1331411745155366\n",
      "Loss at iteration 2000 1.1269008052110479\n",
      "Loss at iteration 2500 1.0905077695460552\n",
      "Loss at iteration 3000 1.086472232644693\n",
      "Loss at iteration 3500 1.0983355226778249\n",
      "Loss at iteration 4000 1.0652158028810652\n",
      "Loss at iteration 4500 1.0645173023807841\n",
      "Loss at iteration 5000 1.0994894568638056\n",
      "Loss at iteration 5500 1.0788789536408439\n",
      "Loss at iteration 6000 1.0484550327784325\n",
      "Loss at iteration 6500 1.0652351752079292\n",
      "Loss at iteration 7000 1.0709639168497824\n",
      "Loss at iteration 7500 1.0558077175197107\n",
      "Loss at iteration 8000 1.0403023008551253\n",
      "Loss at iteration 8500 1.0503493955345926\n",
      "Loss at iteration 9000 1.0353947914304937\n",
      "Loss at iteration 9500 1.046050677994603\n",
      "time taken: 18.048588037490845\n",
      "=========Sklearn Classification report=======\n",
      "              precision    recall  f1-score   support\n",
      "\n",
      "           0       0.61      0.73      0.67       411\n",
      "           1       0.52      0.30      0.38       456\n",
      "           2       0.34      0.42      0.37       352\n",
      "           3       0.60      0.65      0.62       387\n",
      "\n",
      "    accuracy                           0.52      1606\n",
      "   macro avg       0.52      0.52      0.51      1606\n",
      "weighted avg       0.52      0.52      0.51      1606\n",
      "\n",
      "\n",
      "\n",
      "==============================\n",
      "Ridge sto\n",
      "alpha: 0.01\n",
      "==============================\n",
      "Loss at iteration 0 1.413956553318054\n",
      "Loss at iteration 500 1.260029411483433\n",
      "Loss at iteration 1000 1.3329061095323445\n",
      "Loss at iteration 1500 1.411552456513728\n",
      "Loss at iteration 2000 1.4496260167869117\n",
      "Loss at iteration 2500 1.2152289543760595\n",
      "Loss at iteration 3000 1.4357070261523615\n",
      "Loss at iteration 3500 1.1886019382427009\n",
      "Loss at iteration 4000 1.2231489142404275\n",
      "Loss at iteration 4500 1.1819029847015545\n",
      "Loss at iteration 5000 1.2081708911944467\n",
      "Loss at iteration 5500 1.4781924633730028\n",
      "Loss at iteration 6000 1.2108664806522524\n",
      "Loss at iteration 6500 1.2698742833645331\n",
      "Loss at iteration 7000 1.3883037444539608\n",
      "Loss at iteration 7500 1.3160646613122107\n",
      "Loss at iteration 8000 1.3210308758598024\n",
      "Loss at iteration 8500 1.3177161586476163\n",
      "Loss at iteration 9000 1.4292052324191489\n",
      "Loss at iteration 9500 1.3926844805533927\n",
      "time taken: 11.174137115478516\n",
      "=========Sklearn Classification report=======\n",
      "              precision    recall  f1-score   support\n",
      "\n",
      "           0       0.38      0.73      0.50       411\n",
      "           1       0.00      0.00      0.00       456\n",
      "           2       0.00      0.00      0.00       352\n",
      "           3       0.38      0.80      0.51       387\n",
      "\n",
      "    accuracy                           0.38      1606\n",
      "   macro avg       0.19      0.38      0.25      1606\n",
      "weighted avg       0.19      0.38      0.25      1606\n",
      "\n",
      "\n",
      "\n",
      "==============================\n",
      "Ridge sto\n",
      "alpha: 0.001\n",
      "==============================\n",
      "Loss at iteration 0 1.7148896831026945\n",
      "Loss at iteration 500 2.195405962510716\n",
      "Loss at iteration 1000 1.0577989795286127\n",
      "Loss at iteration 1500 1.3877648100691953\n",
      "Loss at iteration 2000 1.2996182191697607\n",
      "Loss at iteration 2500 1.3923134843240823\n",
      "Loss at iteration 3000 1.4538588344912222\n",
      "Loss at iteration 3500 1.16586962951499\n",
      "Loss at iteration 4000 1.3958371587594465\n",
      "Loss at iteration 4500 1.2568474115652783\n",
      "Loss at iteration 5000 1.2566332675765395\n",
      "Loss at iteration 5500 1.4082122985015464\n",
      "Loss at iteration 6000 1.1668308062566022\n",
      "Loss at iteration 6500 1.3640426624270576\n",
      "Loss at iteration 7000 1.2619393191233372\n",
      "Loss at iteration 7500 1.248895829643769\n",
      "Loss at iteration 8000 1.3468448099609758\n",
      "Loss at iteration 8500 1.441356140660741\n",
      "Loss at iteration 9000 1.3270485044791653\n",
      "Loss at iteration 9500 1.368589746938993\n",
      "time taken: 17.015024423599243\n",
      "=========Sklearn Classification report=======\n",
      "              precision    recall  f1-score   support\n",
      "\n",
      "           0       0.43      0.56      0.49       411\n",
      "           1       0.31      0.12      0.17       456\n",
      "           2       0.00      0.00      0.00       352\n",
      "           3       0.35      0.80      0.48       387\n",
      "\n",
      "    accuracy                           0.37      1606\n",
      "   macro avg       0.27      0.37      0.29      1606\n",
      "weighted avg       0.28      0.37      0.29      1606\n",
      "\n",
      "\n",
      "\n",
      "==============================\n",
      "Ridge sto\n",
      "alpha: 0.0001\n",
      "==============================\n",
      "Loss at iteration 0 0.964446849602991\n",
      "Loss at iteration 500 1.1211173630889444\n",
      "Loss at iteration 1000 0.9834066229877014\n",
      "Loss at iteration 1500 1.4809008376177535\n",
      "Loss at iteration 2000 1.5185618101195297\n",
      "Loss at iteration 2500 1.0137955497229152\n",
      "Loss at iteration 3000 1.2373412819146201\n",
      "Loss at iteration 3500 1.3577324023975652\n",
      "Loss at iteration 4000 1.4078861041331636\n",
      "Loss at iteration 4500 1.361614852275761\n",
      "Loss at iteration 5000 1.5149411396277703\n",
      "Loss at iteration 5500 1.0877007278756206\n",
      "Loss at iteration 6000 1.8436034014847136\n",
      "Loss at iteration 6500 1.2185064461865862\n",
      "Loss at iteration 7000 1.3403773683069455\n",
      "Loss at iteration 7500 1.61939178725454\n",
      "Loss at iteration 8000 1.1057916287184084\n",
      "Loss at iteration 8500 1.7645369578702246\n",
      "Loss at iteration 9000 1.4921422961247057\n",
      "Loss at iteration 9500 1.4153135468556888\n",
      "time taken: 16.136131286621094\n",
      "=========Sklearn Classification report=======\n",
      "              precision    recall  f1-score   support\n",
      "\n",
      "           0       0.15      0.13      0.14       411\n",
      "           1       0.18      0.09      0.12       456\n",
      "           2       0.24      0.61      0.35       352\n",
      "           3       0.65      0.21      0.31       387\n",
      "\n",
      "    accuracy                           0.24      1606\n",
      "   macro avg       0.30      0.26      0.23      1606\n",
      "weighted avg       0.30      0.24      0.22      1606\n",
      "\n",
      "\n",
      "\n"
     ]
    }
   ],
   "source": [
    "# Grid search with regularizations, methods, and alpha values\n",
    "\n",
    "regs = [\"Normal\", \"Ridge\"]\n",
    "methods = [\"batch\", \"minibatch\", \"sto\"]\n",
    "alphas = [0.01, 0.001, 0.0001]\n",
    "\n",
    "for reg in regs:\n",
    "    for method in methods:\n",
    "        mlflow.start_run(run_name=f\"reg-{reg}-method-{method}\", nested=True)\n",
    "\n",
    "        for alpha in alphas:\n",
    "            if reg == \"Normal\":\n",
    "                params = {\"k\": k, \"n\":X_train.shape[1], \"method\": method, \"alpha\": alpha, \"max_iter\": 10000}\n",
    "            else:\n",
    "                params = {\"k\": k, \"n\":X_train.shape[1], \"method\": method, \"l\": 0.1, \"alpha\": alpha, \"max_iter\": 10000}\n",
    "            \n",
    "            with mlflow.start_run(run_name=f\"reg-{reg}-method-{params['method']}-alpha-{params['alpha']}\", nested=True):\n",
    "                print(\"=\"*30)\n",
    "                print(reg, method)\n",
    "                print(f\"alpha: {alpha}\")\n",
    "                print(\"=\"*30)\n",
    "                type_of_regression = str_to_class(reg)    #Normal, Ridge\n",
    "                model = type_of_regression(**params)  \n",
    "                model.fit(X_train, Y_train_encoded)\n",
    "                yhat = model.predict(X_test)\n",
    "\n",
    "                accuracy = model.accuracy(y_test, yhat)\n",
    "                mlflow.log_metric(key=\"accuracy\", value=accuracy)\n",
    "\n",
    "                for c in range(k):\n",
    "                    f1 = model.f1_score(y_test, yhat, c)\n",
    "                    mlflow.log_metric(key=f\"class_{c}_f1\", value=f1)\n",
    "\n",
    "                signature = mlflow.models.infer_signature(X_train, model.predict(X_train))\n",
    "                mlflow.sklearn.log_model(model, artifact_path='model', signature=signature)\n",
    "\n",
    "                print(\"=========Sklearn Classification report=======\")\n",
    "                print(classification_report(y_test, yhat))\n",
    "                print(\"\\n\")\n",
    "\n",
    "        mlflow.end_run()\n",
    "\n",
    "mlflow.end_run()"
   ]
  },
  {
   "cell_type": "markdown",
   "metadata": {},
   "source": [
    "## 5. Inference"
   ]
  },
  {
   "cell_type": "code",
   "execution_count": 73,
   "metadata": {},
   "outputs": [],
   "source": [
    "import pickle\n",
    "\n",
    "# paths of all components for car price predictions\n",
    "scaler_path = 'app/code/preprocess/scaler.prep'\n",
    "fuel_enc_path = 'app/code/preprocess/fuel_encoder.prep'\n",
    "brand_enc_path = 'app/code/preprocess/brand_encoder.prep'\n",
    "\n",
    "# load all components\n",
    "scaler = pickle.load(open(scaler_path, 'rb'))\n",
    "fuel_le = pickle.load(open(fuel_enc_path, 'rb'))\n",
    "brand_ohe = pickle.load(open(brand_enc_path, 'rb'))"
   ]
  },
  {
   "cell_type": "code",
   "execution_count": null,
   "metadata": {},
   "outputs": [],
   "source": [
    "# Load registered model from mlflow server\n",
    "model_name = \"st124026-a3-model\"\n",
    "model_version = 1\n",
    "\n",
    "model = mlflow.pyfunc.load_model(model_uri=f\"models:/{model_name}/{model_version}\")"
   ]
  },
  {
   "cell_type": "code",
   "execution_count": 76,
   "metadata": {},
   "outputs": [
    {
     "data": {
      "text/html": [
       "<div>\n",
       "<style scoped>\n",
       "    .dataframe tbody tr th:only-of-type {\n",
       "        vertical-align: middle;\n",
       "    }\n",
       "\n",
       "    .dataframe tbody tr th {\n",
       "        vertical-align: top;\n",
       "    }\n",
       "\n",
       "    .dataframe thead th {\n",
       "        text-align: right;\n",
       "    }\n",
       "</style>\n",
       "<table border=\"1\" class=\"dataframe\">\n",
       "  <thead>\n",
       "    <tr style=\"text-align: right;\">\n",
       "      <th></th>\n",
       "      <th>max_power</th>\n",
       "      <th>year</th>\n",
       "      <th>fuel</th>\n",
       "      <th>brand</th>\n",
       "    </tr>\n",
       "  </thead>\n",
       "  <tbody>\n",
       "    <tr>\n",
       "      <th>0</th>\n",
       "      <td>107</td>\n",
       "      <td>2017</td>\n",
       "      <td>Petrol</td>\n",
       "      <td>BMW</td>\n",
       "    </tr>\n",
       "  </tbody>\n",
       "</table>\n",
       "</div>"
      ],
      "text/plain": [
       "   max_power  year    fuel brand\n",
       "0        107  2017  Petrol   BMW"
      ]
     },
     "execution_count": 76,
     "metadata": {},
     "output_type": "execute_result"
    }
   ],
   "source": [
    "sample_df = pd.DataFrame([[107, 2017, 'Petrol', 'BMW']],\n",
    "                         columns=['max_power', 'year', 'fuel', 'brand'])\n",
    "sample_df"
   ]
  },
  {
   "cell_type": "code",
   "execution_count": 77,
   "metadata": {},
   "outputs": [
    {
     "data": {
      "text/html": [
       "<div>\n",
       "<style scoped>\n",
       "    .dataframe tbody tr th:only-of-type {\n",
       "        vertical-align: middle;\n",
       "    }\n",
       "\n",
       "    .dataframe tbody tr th {\n",
       "        vertical-align: top;\n",
       "    }\n",
       "\n",
       "    .dataframe thead th {\n",
       "        text-align: right;\n",
       "    }\n",
       "</style>\n",
       "<table border=\"1\" class=\"dataframe\">\n",
       "  <thead>\n",
       "    <tr style=\"text-align: right;\">\n",
       "      <th></th>\n",
       "      <th>max_power</th>\n",
       "      <th>year</th>\n",
       "      <th>fuel</th>\n",
       "      <th>Ashok</th>\n",
       "      <th>Audi</th>\n",
       "      <th>BMW</th>\n",
       "      <th>Chevrolet</th>\n",
       "      <th>Daewoo</th>\n",
       "      <th>Datsun</th>\n",
       "      <th>Fiat</th>\n",
       "      <th>...</th>\n",
       "      <th>Mitsubishi</th>\n",
       "      <th>Nissan</th>\n",
       "      <th>Opel</th>\n",
       "      <th>Peugeot</th>\n",
       "      <th>Renault</th>\n",
       "      <th>Skoda</th>\n",
       "      <th>Tata</th>\n",
       "      <th>Toyota</th>\n",
       "      <th>Volkswagen</th>\n",
       "      <th>Volvo</th>\n",
       "    </tr>\n",
       "  </thead>\n",
       "  <tbody>\n",
       "    <tr>\n",
       "      <th>0</th>\n",
       "      <td>0.379433</td>\n",
       "      <td>0.918919</td>\n",
       "      <td>1</td>\n",
       "      <td>0.0</td>\n",
       "      <td>0.0</td>\n",
       "      <td>1.0</td>\n",
       "      <td>0.0</td>\n",
       "      <td>0.0</td>\n",
       "      <td>0.0</td>\n",
       "      <td>0.0</td>\n",
       "      <td>...</td>\n",
       "      <td>0.0</td>\n",
       "      <td>0.0</td>\n",
       "      <td>0.0</td>\n",
       "      <td>0.0</td>\n",
       "      <td>0.0</td>\n",
       "      <td>0.0</td>\n",
       "      <td>0.0</td>\n",
       "      <td>0.0</td>\n",
       "      <td>0.0</td>\n",
       "      <td>0.0</td>\n",
       "    </tr>\n",
       "  </tbody>\n",
       "</table>\n",
       "<p>1 rows × 34 columns</p>\n",
       "</div>"
      ],
      "text/plain": [
       "   max_power      year  fuel  Ashok  Audi  BMW  Chevrolet  Daewoo  Datsun  \\\n",
       "0   0.379433  0.918919     1    0.0   0.0  1.0        0.0     0.0     0.0   \n",
       "\n",
       "   Fiat  ...  Mitsubishi  Nissan  Opel  Peugeot  Renault  Skoda  Tata  Toyota  \\\n",
       "0   0.0  ...         0.0     0.0   0.0      0.0      0.0    0.0   0.0     0.0   \n",
       "\n",
       "   Volkswagen  Volvo  \n",
       "0         0.0    0.0  \n",
       "\n",
       "[1 rows x 34 columns]"
      ]
     },
     "execution_count": 77,
     "metadata": {},
     "output_type": "execute_result"
    }
   ],
   "source": [
    "sample_df[num_cols] = scaler.transform(sample_df[num_cols])\n",
    "sample_df['fuel'] = fuel_le.transform(sample_df[['fuel']])\n",
    "sample_df = one_hot_transform(brand_ohe, sample_df, 'brand')\n",
    "sample_df"
   ]
  },
  {
   "cell_type": "code",
   "execution_count": 91,
   "metadata": {},
   "outputs": [
    {
     "data": {
      "text/plain": [
       "array([3], dtype=int64)"
      ]
     },
     "execution_count": 91,
     "metadata": {},
     "output_type": "execute_result"
    }
   ],
   "source": [
    "output = model.predict(sample_df.to_numpy())\n",
    "output"
   ]
  }
 ],
 "metadata": {
  "kernelspec": {
   "display_name": "dsai",
   "language": "python",
   "name": "python3"
  },
  "language_info": {
   "codemirror_mode": {
    "name": "ipython",
    "version": 3
   },
   "file_extension": ".py",
   "mimetype": "text/x-python",
   "name": "python",
   "nbconvert_exporter": "python",
   "pygments_lexer": "ipython3",
   "version": "3.10.12"
  },
  "orig_nbformat": 4
 },
 "nbformat": 4,
 "nbformat_minor": 2
}
